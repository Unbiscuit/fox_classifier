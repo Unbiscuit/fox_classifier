{
 "cells": [
  {
   "cell_type": "code",
   "execution_count": 60,
   "metadata": {},
   "outputs": [],
   "source": [
    "import urllib.request \n",
    "import pandas as pd\n",
    "import yaml\n",
    "import os"
   ]
  },
  {
   "cell_type": "code",
   "execution_count": 61,
   "metadata": {},
   "outputs": [],
   "source": [
    "with open('config.yml', 'r') as file:\n",
    "    paths = yaml.safe_load(file)\n",
    "\n",
    "excel_path = paths['paths']['excel_path']\n",
    "image_path = paths['paths']['categories_path']\n",
    "species_name = 'swift_fox'\n",
    "species_path = os.path.join(image_path, species_name)"
   ]
  },
  {
   "cell_type": "code",
   "execution_count": 62,
   "metadata": {},
   "outputs": [],
   "source": [
    "os.mkdir(species_path)"
   ]
  },
  {
   "cell_type": "code",
   "execution_count": 63,
   "metadata": {},
   "outputs": [
    {
     "data": {
      "text/plain": [
       "<bound method NDFrame.head of                                              image_url\n",
       "0    https://inaturalist-open-data.s3.amazonaws.com...\n",
       "1    https://static.inaturalist.org/photos/818660/m...\n",
       "2    https://inaturalist-open-data.s3.amazonaws.com...\n",
       "3    https://inaturalist-open-data.s3.amazonaws.com...\n",
       "4    https://inaturalist-open-data.s3.amazonaws.com...\n",
       "..                                                 ...\n",
       "224  https://static.inaturalist.org/photos/33957899...\n",
       "225  https://inaturalist-open-data.s3.amazonaws.com...\n",
       "226  https://static.inaturalist.org/photos/34194336...\n",
       "227  https://inaturalist-open-data.s3.amazonaws.com...\n",
       "228  https://inaturalist-open-data.s3.amazonaws.com...\n",
       "\n",
       "[229 rows x 1 columns]>"
      ]
     },
     "execution_count": 63,
     "metadata": {},
     "output_type": "execute_result"
    }
   ],
   "source": [
    "df = pd.read_csv(excel_path + species_name + '.csv')\n",
    "df.dropna\n",
    "df.head"
   ]
  },
  {
   "cell_type": "code",
   "execution_count": 64,
   "metadata": {},
   "outputs": [],
   "source": [
    "def get_dataset(df, dataset_name):\n",
    "    for i in range(len(df)):\n",
    "        urls = df['image_url']\n",
    "        url = f'{urls[i]}'\n",
    "        urllib.request.urlretrieve(url, f\"{image_path + dataset_name}/{i}.png\") "
   ]
  },
  {
   "cell_type": "code",
   "execution_count": 65,
   "metadata": {},
   "outputs": [],
   "source": [
    "get_dataset(df, species_name)"
   ]
  }
 ],
 "metadata": {
  "kernelspec": {
   "display_name": "main",
   "language": "python",
   "name": "python3"
  },
  "language_info": {
   "codemirror_mode": {
    "name": "ipython",
    "version": 3
   },
   "file_extension": ".py",
   "mimetype": "text/x-python",
   "name": "python",
   "nbconvert_exporter": "python",
   "pygments_lexer": "ipython3",
   "version": "3.9.17"
  }
 },
 "nbformat": 4,
 "nbformat_minor": 2
}
