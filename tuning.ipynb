{
 "cells": [
  {
   "cell_type": "code",
   "execution_count": 1,
   "metadata": {},
   "outputs": [
    {
     "name": "stderr",
     "output_type": "stream",
     "text": [
      "2024-01-06 16:25:08.363823: I tensorflow/core/platform/cpu_feature_guard.cc:182] This TensorFlow binary is optimized to use available CPU instructions in performance-critical operations.\n",
      "To enable the following instructions: AVX2 FMA, in other operations, rebuild TensorFlow with the appropriate compiler flags.\n",
      "2024-01-06 16:25:11.625369: W tensorflow/compiler/tf2tensorrt/utils/py_utils.cc:38] TF-TRT Warning: Could not find TensorRT\n"
     ]
    }
   ],
   "source": [
    "%load_ext tensorboard\n",
    "\n",
    "import tensorflow as tf\n",
    "import keras\n",
    "from keras import layers\n",
    "import yaml, datetime\n",
    "from tensorboard.plugins.hparams import api as hp"
   ]
  },
  {
   "cell_type": "code",
   "execution_count": 2,
   "metadata": {},
   "outputs": [
    {
     "name": "stderr",
     "output_type": "stream",
     "text": [
      "2024-01-06 16:25:20.357552: I tensorflow/compiler/xla/stream_executor/cuda/cuda_gpu_executor.cc:996] successful NUMA node read from SysFS had negative value (-1), but there must be at least one NUMA node, so returning NUMA node zero. See more at https://github.com/torvalds/linux/blob/v6.0/Documentation/ABI/testing/sysfs-bus-pci#L344-L355\n",
      "2024-01-06 16:25:20.635605: I tensorflow/compiler/xla/stream_executor/cuda/cuda_gpu_executor.cc:996] successful NUMA node read from SysFS had negative value (-1), but there must be at least one NUMA node, so returning NUMA node zero. See more at https://github.com/torvalds/linux/blob/v6.0/Documentation/ABI/testing/sysfs-bus-pci#L344-L355\n",
      "2024-01-06 16:25:20.636785: I tensorflow/compiler/xla/stream_executor/cuda/cuda_gpu_executor.cc:996] successful NUMA node read from SysFS had negative value (-1), but there must be at least one NUMA node, so returning NUMA node zero. See more at https://github.com/torvalds/linux/blob/v6.0/Documentation/ABI/testing/sysfs-bus-pci#L344-L355\n",
      "2024-01-06 16:25:20.641166: I tensorflow/compiler/xla/stream_executor/cuda/cuda_gpu_executor.cc:996] successful NUMA node read from SysFS had negative value (-1), but there must be at least one NUMA node, so returning NUMA node zero. See more at https://github.com/torvalds/linux/blob/v6.0/Documentation/ABI/testing/sysfs-bus-pci#L344-L355\n",
      "2024-01-06 16:25:20.642082: I tensorflow/compiler/xla/stream_executor/cuda/cuda_gpu_executor.cc:996] successful NUMA node read from SysFS had negative value (-1), but there must be at least one NUMA node, so returning NUMA node zero. See more at https://github.com/torvalds/linux/blob/v6.0/Documentation/ABI/testing/sysfs-bus-pci#L344-L355\n",
      "2024-01-06 16:25:20.642933: I tensorflow/compiler/xla/stream_executor/cuda/cuda_gpu_executor.cc:996] successful NUMA node read from SysFS had negative value (-1), but there must be at least one NUMA node, so returning NUMA node zero. See more at https://github.com/torvalds/linux/blob/v6.0/Documentation/ABI/testing/sysfs-bus-pci#L344-L355\n",
      "2024-01-06 16:25:20.869307: I tensorflow/compiler/xla/stream_executor/cuda/cuda_gpu_executor.cc:996] successful NUMA node read from SysFS had negative value (-1), but there must be at least one NUMA node, so returning NUMA node zero. See more at https://github.com/torvalds/linux/blob/v6.0/Documentation/ABI/testing/sysfs-bus-pci#L344-L355\n",
      "2024-01-06 16:25:20.870190: I tensorflow/compiler/xla/stream_executor/cuda/cuda_gpu_executor.cc:996] successful NUMA node read from SysFS had negative value (-1), but there must be at least one NUMA node, so returning NUMA node zero. See more at https://github.com/torvalds/linux/blob/v6.0/Documentation/ABI/testing/sysfs-bus-pci#L344-L355\n",
      "2024-01-06 16:25:20.870994: I tensorflow/compiler/xla/stream_executor/cuda/cuda_gpu_executor.cc:996] successful NUMA node read from SysFS had negative value (-1), but there must be at least one NUMA node, so returning NUMA node zero. See more at https://github.com/torvalds/linux/blob/v6.0/Documentation/ABI/testing/sysfs-bus-pci#L344-L355\n",
      "2024-01-06 16:25:20.871530: I tensorflow/core/common_runtime/gpu/gpu_device.cc:1635] Created device /job:localhost/replica:0/task:0/device:GPU:0 with 2791 MB memory:  -> device: 0, name: NVIDIA GeForce GTX 1650, pci bus id: 0000:01:00.0, compute capability: 7.5\n"
     ]
    }
   ],
   "source": [
    "HP_BATCH_SIZE = hp.HParam('batch_size', hp.Discrete([2, 4, 8, 16]))\n",
    "HP_IMG_DIM_SIZE = hp.HParam('img_dim_size', hp.Discrete([64, 128, 256]))\n",
    "HP_OPTIMIZER = hp.HParam('optimizer', hp.Discrete(['adam', 'sgd', 'rmsprop']))\n",
    "\n",
    "METRIC_ACCURACY = 'accuracy'\n",
    "\n",
    "with tf.summary.create_file_writer('logs/hparam_tuning').as_default():\n",
    "  hp.hparams_config(\n",
    "    hparams=[HP_BATCH_SIZE, HP_IMG_DIM_SIZE, HP_OPTIMIZER],\n",
    "    metrics=[hp.Metric(METRIC_ACCURACY, display_name='Accuracy')],\n",
    "  )\n",
    "\n",
    "with open('config.yml', 'r') as file:\n",
    "    paths = yaml.safe_load(file)\n",
    "\n",
    "data_dir = paths['paths']['categories_path']"
   ]
  },
  {
   "cell_type": "code",
   "execution_count": 7,
   "metadata": {},
   "outputs": [],
   "source": [
    "def train_test_model(hparams):\n",
    "    train_ds = tf.keras.utils.image_dataset_from_directory(\n",
    "        data_dir,\n",
    "        validation_split=0.2,\n",
    "        subset=\"training\",\n",
    "        seed=123,\n",
    "        image_size=(hparams[HP_IMG_DIM_SIZE], hparams[HP_IMG_DIM_SIZE]),\n",
    "        batch_size=hparams[HP_BATCH_SIZE])\n",
    "\n",
    "    val_ds = tf.keras.utils.image_dataset_from_directory(\n",
    "        data_dir,\n",
    "        validation_split=0.2,\n",
    "        subset=\"validation\",\n",
    "        seed=123,\n",
    "        image_size=(hparams[HP_IMG_DIM_SIZE], hparams[HP_IMG_DIM_SIZE]),\n",
    "        batch_size=hparams[HP_BATCH_SIZE])\n",
    "\n",
    "    val_batches = tf.data.experimental.cardinality(val_ds)\n",
    "    test_ds = val_ds.take((2*val_batches) // 3)\n",
    "    val_ds = val_ds.skip((2*val_batches) // 3)\n",
    "\n",
    "    data_augmentation = keras.Sequential(\n",
    "        [\n",
    "        layers.RandomFlip(\"horizontal\"),\n",
    "        layers.RandomRotation(0.1),\n",
    "        layers.RandomZoom(0.2),\n",
    "        ]\n",
    "    )\n",
    "\n",
    "    input = keras.Input(shape=(hparams[HP_IMG_DIM_SIZE], hparams[HP_IMG_DIM_SIZE], 3))\n",
    "    x = data_augmentation(input)\n",
    "    x = layers.Rescaling(1./255)(x)\n",
    "    x = layers.Conv2D(filters=16, kernel_size=(3, 3), padding='same', activation='relu')(x)\n",
    "    x = layers.MaxPooling2D(pool_size=(2,2))(x)\n",
    "    x = layers.Conv2D(filters=32, kernel_size=(3, 3), padding='same', activation='relu')(x)\n",
    "    x = layers.MaxPooling2D(pool_size=(2,2))(x)\n",
    "    x = layers.Conv2D(filters=64, kernel_size=(3, 3), padding='same', activation='relu')(x)\n",
    "    x = layers.MaxPooling2D(pool_size=(2,2))(x)\n",
    "    x = layers.Conv2D(filters=128, kernel_size=(3, 3), padding='same', activation='relu')(x)\n",
    "    x = layers.MaxPooling2D(pool_size=(2,2))(x)\n",
    "    x = layers.Conv2D(filters=256, kernel_size=(3, 3), padding='same', activation='relu')(x)\n",
    "    x = layers.MaxPooling2D(pool_size=(2,2))(x)\n",
    "    x = layers.Conv2D(filters=512, kernel_size=(3, 3), padding='same', activation='relu')(x)\n",
    "    x = layers.Flatten()(x)\n",
    "    output = layers.Dense(7, activation='softmax')(x)\n",
    "    model = keras.Model(inputs=input, outputs=output)\n",
    "\n",
    "    model.compile(loss='sparse_categorical_crossentropy', optimizer=hparams[HP_OPTIMIZER], metrics=['accuracy'])\n",
    "\n",
    "    model.fit(train_ds, \n",
    "              epochs=50, \n",
    "              validation_data=val_ds)\n",
    "    _, accuracy = model.evaluate(test_ds)\n",
    "    return accuracy"
   ]
  },
  {
   "cell_type": "code",
   "execution_count": 8,
   "metadata": {},
   "outputs": [],
   "source": [
    "def run(run_dir, hparams):\n",
    "  with tf.summary.create_file_writer(run_dir).as_default():\n",
    "    hp.hparams(hparams)  \n",
    "    accuracy = train_test_model(hparams)\n",
    "    tf.summary.scalar(METRIC_ACCURACY, accuracy, step=1)\n"
   ]
  },
  {
   "cell_type": "code",
   "execution_count": 9,
   "metadata": {},
   "outputs": [
    {
     "name": "stdout",
     "output_type": "stream",
     "text": [
      "230/230 [==============================] - 11s 47ms/step - loss: 1.4947 - accuracy: 0.4115 - val_loss: 1.9219 - val_accuracy: 0.3539\n",
      "Epoch 26/50\n",
      " 99/230 [===========>..................] - ETA: 4s - loss: 1.4854 - accuracy: 0.4104"
     ]
    },
    {
     "name": "stderr",
     "output_type": "stream",
     "text": [
      "2024-01-07 01:18:57.634553: W tensorflow/core/lib/png/png_io.cc:88] PNG warning: iCCP: extra compressed data\n"
     ]
    },
    {
     "name": "stdout",
     "output_type": "stream",
     "text": [
      "230/230 [==============================] - 9s 39ms/step - loss: 1.4896 - accuracy: 0.4110 - val_loss: 1.5963 - val_accuracy: 0.3864\n",
      "Epoch 27/50\n",
      " 99/230 [===========>..................] - ETA: 6s - loss: 1.4628 - accuracy: 0.4217"
     ]
    },
    {
     "name": "stderr",
     "output_type": "stream",
     "text": [
      "2024-01-07 01:19:08.107487: W tensorflow/core/lib/png/png_io.cc:88] PNG warning: iCCP: extra compressed data\n"
     ]
    },
    {
     "name": "stdout",
     "output_type": "stream",
     "text": [
      "230/230 [==============================] - 12s 50ms/step - loss: 1.4752 - accuracy: 0.4254 - val_loss: 1.6383 - val_accuracy: 0.3604\n",
      "Epoch 28/50\n",
      " 98/230 [===========>..................] - ETA: 4s - loss: 1.4685 - accuracy: 0.4216"
     ]
    },
    {
     "name": "stderr",
     "output_type": "stream",
     "text": [
      "2024-01-07 01:19:18.454923: W tensorflow/core/lib/png/png_io.cc:88] PNG warning: iCCP: extra compressed data\n"
     ]
    },
    {
     "name": "stdout",
     "output_type": "stream",
     "text": [
      "230/230 [==============================] - 9s 37ms/step - loss: 1.4769 - accuracy: 0.4167 - val_loss: 1.7121 - val_accuracy: 0.3701\n",
      "Epoch 29/50\n",
      "101/230 [============>.................] - ETA: 3s - loss: 1.4564 - accuracy: 0.4356"
     ]
    },
    {
     "name": "stderr",
     "output_type": "stream",
     "text": [
      "2024-01-07 01:19:26.833941: W tensorflow/core/lib/png/png_io.cc:88] PNG warning: iCCP: extra compressed data\n"
     ]
    },
    {
     "name": "stdout",
     "output_type": "stream",
     "text": [
      "230/230 [==============================] - 9s 40ms/step - loss: 1.4643 - accuracy: 0.4246 - val_loss: 1.5831 - val_accuracy: 0.3799\n",
      "Epoch 30/50\n",
      " 98/230 [===========>..................] - ETA: 4s - loss: 1.4394 - accuracy: 0.4439"
     ]
    },
    {
     "name": "stderr",
     "output_type": "stream",
     "text": [
      "2024-01-07 01:19:36.718930: W tensorflow/core/lib/png/png_io.cc:88] PNG warning: iCCP: extra compressed data\n"
     ]
    },
    {
     "name": "stdout",
     "output_type": "stream",
     "text": [
      "230/230 [==============================] - 9s 39ms/step - loss: 1.4550 - accuracy: 0.4339 - val_loss: 1.6014 - val_accuracy: 0.3864\n",
      "Epoch 31/50\n",
      "101/230 [============>.................] - ETA: 3s - loss: 1.4330 - accuracy: 0.4363"
     ]
    },
    {
     "name": "stderr",
     "output_type": "stream",
     "text": [
      "2024-01-07 01:19:45.262188: W tensorflow/core/lib/png/png_io.cc:88] PNG warning: iCCP: extra compressed data\n"
     ]
    },
    {
     "name": "stdout",
     "output_type": "stream",
     "text": [
      "230/230 [==============================] - 8s 34ms/step - loss: 1.4425 - accuracy: 0.4410 - val_loss: 1.7069 - val_accuracy: 0.3766\n",
      "Epoch 32/50\n",
      "100/230 [============>.................] - ETA: 4s - loss: 1.4266 - accuracy: 0.4412"
     ]
    },
    {
     "name": "stderr",
     "output_type": "stream",
     "text": [
      "2024-01-07 01:19:54.291523: W tensorflow/core/lib/png/png_io.cc:88] PNG warning: iCCP: extra compressed data\n"
     ]
    },
    {
     "name": "stdout",
     "output_type": "stream",
     "text": [
      "230/230 [==============================] - 10s 42ms/step - loss: 1.4325 - accuracy: 0.4371 - val_loss: 1.6243 - val_accuracy: 0.3766\n",
      "Epoch 33/50\n",
      " 99/230 [===========>..................] - ETA: 4s - loss: 1.4182 - accuracy: 0.4596"
     ]
    },
    {
     "name": "stderr",
     "output_type": "stream",
     "text": [
      "2024-01-07 01:20:03.819235: W tensorflow/core/lib/png/png_io.cc:88] PNG warning: iCCP: extra compressed data\n"
     ]
    },
    {
     "name": "stdout",
     "output_type": "stream",
     "text": [
      "230/230 [==============================] - 10s 41ms/step - loss: 1.4246 - accuracy: 0.4554 - val_loss: 1.5932 - val_accuracy: 0.3831\n",
      "Epoch 34/50\n",
      "100/230 [============>.................] - ETA: 4s - loss: 1.3994 - accuracy: 0.4538"
     ]
    },
    {
     "name": "stderr",
     "output_type": "stream",
     "text": [
      "2024-01-07 01:20:13.977512: W tensorflow/core/lib/png/png_io.cc:88] PNG warning: iCCP: extra compressed data\n"
     ]
    },
    {
     "name": "stdout",
     "output_type": "stream",
     "text": [
      "230/230 [==============================] - 11s 47ms/step - loss: 1.4179 - accuracy: 0.4483 - val_loss: 1.5154 - val_accuracy: 0.4026\n",
      "Epoch 35/50\n",
      " 99/230 [===========>..................] - ETA: 4s - loss: 1.3908 - accuracy: 0.4476"
     ]
    },
    {
     "name": "stderr",
     "output_type": "stream",
     "text": [
      "2024-01-07 01:20:24.561701: W tensorflow/core/lib/png/png_io.cc:88] PNG warning: iCCP: extra compressed data\n"
     ]
    },
    {
     "name": "stdout",
     "output_type": "stream",
     "text": [
      "230/230 [==============================] - 9s 39ms/step - loss: 1.4058 - accuracy: 0.4521 - val_loss: 1.8630 - val_accuracy: 0.3539\n",
      "Epoch 36/50\n",
      " 99/230 [===========>..................] - ETA: 3s - loss: 1.3856 - accuracy: 0.4470"
     ]
    },
    {
     "name": "stderr",
     "output_type": "stream",
     "text": [
      "2024-01-07 01:20:33.397572: W tensorflow/core/lib/png/png_io.cc:88] PNG warning: iCCP: extra compressed data\n"
     ]
    },
    {
     "name": "stdout",
     "output_type": "stream",
     "text": [
      "230/230 [==============================] - 9s 36ms/step - loss: 1.3997 - accuracy: 0.4513 - val_loss: 1.6170 - val_accuracy: 0.4058\n",
      "Epoch 37/50\n",
      "101/230 [============>.................] - ETA: 3s - loss: 1.3762 - accuracy: 0.4684"
     ]
    },
    {
     "name": "stderr",
     "output_type": "stream",
     "text": [
      "2024-01-07 01:20:41.940445: W tensorflow/core/lib/png/png_io.cc:88] PNG warning: iCCP: extra compressed data\n"
     ]
    },
    {
     "name": "stdout",
     "output_type": "stream",
     "text": [
      "230/230 [==============================] - 9s 36ms/step - loss: 1.3832 - accuracy: 0.4641 - val_loss: 1.7337 - val_accuracy: 0.3019\n",
      "Epoch 38/50\n",
      " 98/230 [===========>..................] - ETA: 4s - loss: 1.3527 - accuracy: 0.4815"
     ]
    },
    {
     "name": "stderr",
     "output_type": "stream",
     "text": [
      "2024-01-07 01:20:51.092534: W tensorflow/core/lib/png/png_io.cc:88] PNG warning: iCCP: extra compressed data\n"
     ]
    },
    {
     "name": "stdout",
     "output_type": "stream",
     "text": [
      "230/230 [==============================] - 11s 45ms/step - loss: 1.3714 - accuracy: 0.4742 - val_loss: 1.5729 - val_accuracy: 0.3896\n",
      "Epoch 39/50\n",
      " 98/230 [===========>..................] - ETA: 5s - loss: 1.3616 - accuracy: 0.4668"
     ]
    },
    {
     "name": "stderr",
     "output_type": "stream",
     "text": [
      "2024-01-07 01:21:02.412012: W tensorflow/core/lib/png/png_io.cc:88] PNG warning: iCCP: extra compressed data\n"
     ]
    },
    {
     "name": "stdout",
     "output_type": "stream",
     "text": [
      "230/230 [==============================] - 11s 45ms/step - loss: 1.3629 - accuracy: 0.4780 - val_loss: 1.5001 - val_accuracy: 0.4383\n",
      "Epoch 40/50\n",
      "100/230 [============>.................] - ETA: 4s - loss: 1.3390 - accuracy: 0.4844"
     ]
    },
    {
     "name": "stderr",
     "output_type": "stream",
     "text": [
      "2024-01-07 01:21:11.996459: W tensorflow/core/lib/png/png_io.cc:88] PNG warning: iCCP: extra compressed data\n"
     ]
    },
    {
     "name": "stdout",
     "output_type": "stream",
     "text": [
      "230/230 [==============================] - 9s 40ms/step - loss: 1.3538 - accuracy: 0.4810 - val_loss: 1.5484 - val_accuracy: 0.3929\n",
      "Epoch 41/50\n",
      " 99/230 [===========>..................] - ETA: 4s - loss: 1.3269 - accuracy: 0.4798"
     ]
    },
    {
     "name": "stderr",
     "output_type": "stream",
     "text": [
      "2024-01-07 01:21:21.422770: W tensorflow/core/lib/png/png_io.cc:88] PNG warning: iCCP: extra compressed data\n"
     ]
    },
    {
     "name": "stdout",
     "output_type": "stream",
     "text": [
      "230/230 [==============================] - 9s 39ms/step - loss: 1.3416 - accuracy: 0.4821 - val_loss: 1.7524 - val_accuracy: 0.3084\n",
      "Epoch 42/50\n",
      " 98/230 [===========>..................] - ETA: 4s - loss: 1.3375 - accuracy: 0.4681"
     ]
    },
    {
     "name": "stderr",
     "output_type": "stream",
     "text": [
      "2024-01-07 01:21:30.493709: W tensorflow/core/lib/png/png_io.cc:88] PNG warning: iCCP: extra compressed data\n"
     ]
    },
    {
     "name": "stdout",
     "output_type": "stream",
     "text": [
      "230/230 [==============================] - 9s 40ms/step - loss: 1.3371 - accuracy: 0.4832 - val_loss: 1.6335 - val_accuracy: 0.3831\n",
      "Epoch 43/50\n",
      " 98/230 [===========>..................] - ETA: 5s - loss: 1.3265 - accuracy: 0.4821"
     ]
    },
    {
     "name": "stderr",
     "output_type": "stream",
     "text": [
      "2024-01-07 01:21:40.878897: W tensorflow/core/lib/png/png_io.cc:88] PNG warning: iCCP: extra compressed data\n"
     ]
    },
    {
     "name": "stdout",
     "output_type": "stream",
     "text": [
      "230/230 [==============================] - 11s 48ms/step - loss: 1.3207 - accuracy: 0.4977 - val_loss: 1.5370 - val_accuracy: 0.3864\n",
      "Epoch 44/50\n",
      " 98/230 [===========>..................] - ETA: 4s - loss: 1.2899 - accuracy: 0.4943"
     ]
    },
    {
     "name": "stderr",
     "output_type": "stream",
     "text": [
      "2024-01-07 01:21:51.477040: W tensorflow/core/lib/png/png_io.cc:88] PNG warning: iCCP: extra compressed data\n"
     ]
    },
    {
     "name": "stdout",
     "output_type": "stream",
     "text": [
      "230/230 [==============================] - 10s 42ms/step - loss: 1.3086 - accuracy: 0.4963 - val_loss: 1.5920 - val_accuracy: 0.3604\n",
      "Epoch 45/50\n",
      " 99/230 [===========>..................] - ETA: 4s - loss: 1.2830 - accuracy: 0.5025"
     ]
    },
    {
     "name": "stderr",
     "output_type": "stream",
     "text": [
      "2024-01-07 01:22:01.420070: W tensorflow/core/lib/png/png_io.cc:88] PNG warning: iCCP: extra compressed data\n"
     ]
    },
    {
     "name": "stdout",
     "output_type": "stream",
     "text": [
      "230/230 [==============================] - 10s 42ms/step - loss: 1.3005 - accuracy: 0.4985 - val_loss: 1.5276 - val_accuracy: 0.4286\n",
      "Epoch 46/50\n",
      " 99/230 [===========>..................] - ETA: 4s - loss: 1.2848 - accuracy: 0.4968"
     ]
    },
    {
     "name": "stderr",
     "output_type": "stream",
     "text": [
      "2024-01-07 01:22:11.271269: W tensorflow/core/lib/png/png_io.cc:88] PNG warning: iCCP: extra compressed data\n"
     ]
    },
    {
     "name": "stdout",
     "output_type": "stream",
     "text": [
      "230/230 [==============================] - 10s 41ms/step - loss: 1.2864 - accuracy: 0.5127 - val_loss: 1.5597 - val_accuracy: 0.3864\n",
      "Epoch 47/50\n",
      "100/230 [============>.................] - ETA: 4s - loss: 1.2956 - accuracy: 0.4938"
     ]
    },
    {
     "name": "stderr",
     "output_type": "stream",
     "text": [
      "2024-01-07 01:22:21.193628: W tensorflow/core/lib/png/png_io.cc:88] PNG warning: iCCP: extra compressed data\n"
     ]
    },
    {
     "name": "stdout",
     "output_type": "stream",
     "text": [
      "230/230 [==============================] - 11s 49ms/step - loss: 1.2864 - accuracy: 0.5083 - val_loss: 1.6338 - val_accuracy: 0.3799\n",
      "Epoch 48/50\n",
      " 99/230 [===========>..................] - ETA: 5s - loss: 1.2696 - accuracy: 0.5044"
     ]
    },
    {
     "name": "stderr",
     "output_type": "stream",
     "text": [
      "2024-01-07 01:22:33.567607: W tensorflow/core/lib/png/png_io.cc:88] PNG warning: iCCP: extra compressed data\n"
     ]
    },
    {
     "name": "stdout",
     "output_type": "stream",
     "text": [
      "230/230 [==============================] - 11s 47ms/step - loss: 1.2699 - accuracy: 0.5181 - val_loss: 1.6492 - val_accuracy: 0.3474\n",
      "Epoch 49/50\n",
      "101/230 [============>.................] - ETA: 3s - loss: 1.2752 - accuracy: 0.5006"
     ]
    },
    {
     "name": "stderr",
     "output_type": "stream",
     "text": [
      "2024-01-07 01:22:43.349455: W tensorflow/core/lib/png/png_io.cc:88] PNG warning: iCCP: extra compressed data\n"
     ]
    },
    {
     "name": "stdout",
     "output_type": "stream",
     "text": [
      "230/230 [==============================] - 8s 35ms/step - loss: 1.2669 - accuracy: 0.5102 - val_loss: 1.6036 - val_accuracy: 0.3831\n",
      "Epoch 50/50\n",
      "100/230 [============>.................] - ETA: 3s - loss: 1.2351 - accuracy: 0.5231"
     ]
    },
    {
     "name": "stderr",
     "output_type": "stream",
     "text": [
      "2024-01-07 01:22:51.370618: W tensorflow/core/lib/png/png_io.cc:88] PNG warning: iCCP: extra compressed data\n"
     ]
    },
    {
     "name": "stdout",
     "output_type": "stream",
     "text": [
      "230/230 [==============================] - 9s 39ms/step - loss: 1.2355 - accuracy: 0.5271 - val_loss: 1.6509 - val_accuracy: 0.3669\n"
     ]
    },
    {
     "name": "stderr",
     "output_type": "stream",
     "text": [
      "2024-01-07 01:22:57.676904: I tensorflow/core/common_runtime/executor.cc:1197] [/device:CPU:0] (DEBUG INFO) Executor start aborting (this does not indicate an error and you can ignore this message): INVALID_ARGUMENT: You must feed a value for placeholder tensor 'Placeholder/_4' with dtype int32 and shape [916]\n",
      "\t [[{{node Placeholder/_4}}]]\n",
      "2024-01-07 01:22:57.678342: I tensorflow/core/common_runtime/executor.cc:1197] [/device:CPU:0] (DEBUG INFO) Executor start aborting (this does not indicate an error and you can ignore this message): INVALID_ARGUMENT: You must feed a value for placeholder tensor 'Placeholder/_0' with dtype string and shape [916]\n",
      "\t [[{{node Placeholder/_0}}]]\n"
     ]
    },
    {
     "name": "stdout",
     "output_type": "stream",
     "text": [
      "38/38 [==============================] - 1s 28ms/step - loss: 1.6158 - accuracy: 0.3832\n",
      "--- Starting trial: run-33\n",
      "{'batch_size': 16, 'img_dim_size': 256, 'optimizer': 'adam'}\n",
      "Found 4583 files belonging to 7 classes.\n",
      "Using 3667 files for training.\n",
      "Found 4583 files belonging to 7 classes.\n",
      "Using 916 files for validation.\n",
      "Epoch 1/50\n"
     ]
    },
    {
     "name": "stderr",
     "output_type": "stream",
     "text": [
      "2024-01-07 01:23:00.555917: I tensorflow/core/common_runtime/executor.cc:1197] [/device:CPU:0] (DEBUG INFO) Executor start aborting (this does not indicate an error and you can ignore this message): INVALID_ARGUMENT: You must feed a value for placeholder tensor 'Placeholder/_4' with dtype int32 and shape [3667]\n",
      "\t [[{{node Placeholder/_4}}]]\n",
      "2024-01-07 01:23:00.556994: I tensorflow/core/common_runtime/executor.cc:1197] [/device:CPU:0] (DEBUG INFO) Executor start aborting (this does not indicate an error and you can ignore this message): INVALID_ARGUMENT: You must feed a value for placeholder tensor 'Placeholder/_0' with dtype string and shape [3667]\n",
      "\t [[{{node Placeholder/_0}}]]\n"
     ]
    },
    {
     "name": "stdout",
     "output_type": "stream",
     "text": [
      " 94/230 [===========>..................] - ETA: 6s - loss: 1.8156 - accuracy: 0.2699"
     ]
    },
    {
     "name": "stderr",
     "output_type": "stream",
     "text": [
      "2024-01-07 01:23:12.373047: W tensorflow/core/lib/png/png_io.cc:88] PNG warning: iCCP: extra compressed data\n"
     ]
    },
    {
     "name": "stdout",
     "output_type": "stream",
     "text": [
      "230/230 [==============================] - ETA: 0s - loss: 1.7841 - accuracy: 0.2803"
     ]
    },
    {
     "name": "stderr",
     "output_type": "stream",
     "text": [
      "2024-01-07 01:23:19.239295: I tensorflow/core/common_runtime/executor.cc:1197] [/device:CPU:0] (DEBUG INFO) Executor start aborting (this does not indicate an error and you can ignore this message): INVALID_ARGUMENT: You must feed a value for placeholder tensor 'Placeholder/_4' with dtype int32 and shape [916]\n",
      "\t [[{{node Placeholder/_4}}]]\n",
      "2024-01-07 01:23:19.240707: I tensorflow/core/common_runtime/executor.cc:1197] [/device:CPU:0] (DEBUG INFO) Executor start aborting (this does not indicate an error and you can ignore this message): INVALID_ARGUMENT: You must feed a value for placeholder tensor 'Placeholder/_0' with dtype string and shape [916]\n",
      "\t [[{{node Placeholder/_0}}]]\n"
     ]
    },
    {
     "name": "stdout",
     "output_type": "stream",
     "text": [
      "230/230 [==============================] - 21s 58ms/step - loss: 1.7841 - accuracy: 0.2803 - val_loss: 1.7691 - val_accuracy: 0.3377\n",
      "Epoch 2/50\n",
      " 93/230 [===========>..................] - ETA: 6s - loss: 1.7026 - accuracy: 0.3333"
     ]
    },
    {
     "name": "stderr",
     "output_type": "stream",
     "text": [
      "2024-01-07 01:23:26.098651: W tensorflow/core/lib/png/png_io.cc:88] PNG warning: iCCP: extra compressed data\n"
     ]
    },
    {
     "name": "stdout",
     "output_type": "stream",
     "text": [
      "230/230 [==============================] - 13s 57ms/step - loss: 1.7131 - accuracy: 0.3240 - val_loss: 1.6800 - val_accuracy: 0.3701\n",
      "Epoch 3/50\n",
      " 94/230 [===========>..................] - ETA: 6s - loss: 1.6718 - accuracy: 0.3551"
     ]
    },
    {
     "name": "stderr",
     "output_type": "stream",
     "text": [
      "2024-01-07 01:23:39.668553: W tensorflow/core/lib/png/png_io.cc:88] PNG warning: iCCP: extra compressed data\n"
     ]
    },
    {
     "name": "stdout",
     "output_type": "stream",
     "text": [
      "230/230 [==============================] - 14s 59ms/step - loss: 1.6717 - accuracy: 0.3447 - val_loss: 1.6626 - val_accuracy: 0.3442\n",
      "Epoch 4/50\n",
      " 94/230 [===========>..................] - ETA: 6s - loss: 1.6281 - accuracy: 0.3537"
     ]
    },
    {
     "name": "stderr",
     "output_type": "stream",
     "text": [
      "2024-01-07 01:23:53.497938: W tensorflow/core/lib/png/png_io.cc:88] PNG warning: iCCP: extra compressed data\n"
     ]
    },
    {
     "name": "stdout",
     "output_type": "stream",
     "text": [
      "230/230 [==============================] - 14s 61ms/step - loss: 1.6339 - accuracy: 0.3515 - val_loss: 1.6864 - val_accuracy: 0.3377\n",
      "Epoch 5/50\n",
      " 94/230 [===========>..................] - ETA: 7s - loss: 1.6163 - accuracy: 0.3604"
     ]
    },
    {
     "name": "stderr",
     "output_type": "stream",
     "text": [
      "2024-01-07 01:24:07.934743: W tensorflow/core/lib/png/png_io.cc:88] PNG warning: iCCP: extra compressed data\n"
     ]
    },
    {
     "name": "stdout",
     "output_type": "stream",
     "text": [
      "230/230 [==============================] - 14s 60ms/step - loss: 1.6095 - accuracy: 0.3632 - val_loss: 1.6277 - val_accuracy: 0.3636\n",
      "Epoch 6/50\n",
      " 94/230 [===========>..................] - ETA: 7s - loss: 1.5969 - accuracy: 0.3670"
     ]
    },
    {
     "name": "stderr",
     "output_type": "stream",
     "text": [
      "2024-01-07 01:24:22.226195: W tensorflow/core/lib/png/png_io.cc:88] PNG warning: iCCP: extra compressed data\n"
     ]
    },
    {
     "name": "stdout",
     "output_type": "stream",
     "text": [
      "230/230 [==============================] - 14s 61ms/step - loss: 1.5909 - accuracy: 0.3722 - val_loss: 1.6785 - val_accuracy: 0.3636\n",
      "Epoch 7/50\n",
      " 94/230 [===========>..................] - ETA: 6s - loss: 1.5566 - accuracy: 0.3856"
     ]
    },
    {
     "name": "stderr",
     "output_type": "stream",
     "text": [
      "2024-01-07 01:24:36.350868: W tensorflow/core/lib/png/png_io.cc:88] PNG warning: iCCP: extra compressed data\n"
     ]
    },
    {
     "name": "stdout",
     "output_type": "stream",
     "text": [
      "230/230 [==============================] - 16s 69ms/step - loss: 1.5518 - accuracy: 0.3864 - val_loss: 1.6050 - val_accuracy: 0.3669\n",
      "Epoch 8/50\n",
      " 94/230 [===========>..................] - ETA: 7s - loss: 1.5512 - accuracy: 0.3790"
     ]
    },
    {
     "name": "stderr",
     "output_type": "stream",
     "text": [
      "2024-01-07 01:24:52.942108: W tensorflow/core/lib/png/png_io.cc:88] PNG warning: iCCP: extra compressed data\n"
     ]
    },
    {
     "name": "stdout",
     "output_type": "stream",
     "text": [
      "230/230 [==============================] - 15s 66ms/step - loss: 1.5391 - accuracy: 0.3908 - val_loss: 1.5320 - val_accuracy: 0.4058\n",
      "Epoch 9/50\n",
      " 94/230 [===========>..................] - ETA: 7s - loss: 1.4966 - accuracy: 0.4069"
     ]
    },
    {
     "name": "stderr",
     "output_type": "stream",
     "text": [
      "2024-01-07 01:25:13.154003: W tensorflow/core/lib/png/png_io.cc:88] PNG warning: iCCP: extra compressed data\n"
     ]
    },
    {
     "name": "stdout",
     "output_type": "stream",
     "text": [
      "230/230 [==============================] - 14s 62ms/step - loss: 1.5094 - accuracy: 0.4071 - val_loss: 1.5944 - val_accuracy: 0.3442\n",
      "Epoch 10/50\n",
      " 94/230 [===========>..................] - ETA: 7s - loss: 1.4920 - accuracy: 0.4162"
     ]
    },
    {
     "name": "stderr",
     "output_type": "stream",
     "text": [
      "2024-01-07 01:25:27.860295: W tensorflow/core/lib/png/png_io.cc:88] PNG warning: iCCP: extra compressed data\n"
     ]
    },
    {
     "name": "stdout",
     "output_type": "stream",
     "text": [
      "230/230 [==============================] - 15s 65ms/step - loss: 1.4893 - accuracy: 0.4172 - val_loss: 1.4912 - val_accuracy: 0.4318\n",
      "Epoch 11/50\n",
      " 93/230 [===========>..................] - ETA: 7s - loss: 1.4518 - accuracy: 0.4267"
     ]
    },
    {
     "name": "stderr",
     "output_type": "stream",
     "text": [
      "2024-01-07 01:25:43.014186: W tensorflow/core/lib/png/png_io.cc:88] PNG warning: iCCP: extra compressed data\n"
     ]
    },
    {
     "name": "stdout",
     "output_type": "stream",
     "text": [
      "230/230 [==============================] - 15s 63ms/step - loss: 1.4566 - accuracy: 0.4298 - val_loss: 1.5127 - val_accuracy: 0.3961\n",
      "Epoch 12/50\n",
      " 93/230 [===========>..................] - ETA: 7s - loss: 1.4266 - accuracy: 0.4388"
     ]
    },
    {
     "name": "stderr",
     "output_type": "stream",
     "text": [
      "2024-01-07 01:25:57.969197: W tensorflow/core/lib/png/png_io.cc:88] PNG warning: iCCP: extra compressed data\n"
     ]
    },
    {
     "name": "stdout",
     "output_type": "stream",
     "text": [
      "230/230 [==============================] - 15s 66ms/step - loss: 1.4300 - accuracy: 0.4366 - val_loss: 1.4794 - val_accuracy: 0.4221\n",
      "Epoch 13/50\n",
      " 94/230 [===========>..................] - ETA: 7s - loss: 1.4004 - accuracy: 0.4475"
     ]
    },
    {
     "name": "stderr",
     "output_type": "stream",
     "text": [
      "2024-01-07 01:26:13.646832: W tensorflow/core/lib/png/png_io.cc:88] PNG warning: iCCP: extra compressed data\n"
     ]
    },
    {
     "name": "stdout",
     "output_type": "stream",
     "text": [
      "230/230 [==============================] - 16s 67ms/step - loss: 1.3872 - accuracy: 0.4546 - val_loss: 1.4832 - val_accuracy: 0.3994\n",
      "Epoch 14/50\n",
      " 93/230 [===========>..................] - ETA: 7s - loss: 1.3808 - accuracy: 0.4496"
     ]
    },
    {
     "name": "stderr",
     "output_type": "stream",
     "text": [
      "2024-01-07 01:26:33.622776: W tensorflow/core/lib/png/png_io.cc:88] PNG warning: iCCP: extra compressed data\n"
     ]
    },
    {
     "name": "stdout",
     "output_type": "stream",
     "text": [
      "230/230 [==============================] - 15s 65ms/step - loss: 1.3886 - accuracy: 0.4562 - val_loss: 1.4598 - val_accuracy: 0.4513\n",
      "Epoch 15/50\n",
      " 94/230 [===========>..................] - ETA: 7s - loss: 1.3602 - accuracy: 0.4621"
     ]
    },
    {
     "name": "stderr",
     "output_type": "stream",
     "text": [
      "2024-01-07 01:26:48.756275: W tensorflow/core/lib/png/png_io.cc:88] PNG warning: iCCP: extra compressed data\n"
     ]
    },
    {
     "name": "stdout",
     "output_type": "stream",
     "text": [
      "230/230 [==============================] - 15s 66ms/step - loss: 1.3508 - accuracy: 0.4701 - val_loss: 1.4727 - val_accuracy: 0.4188\n",
      "Epoch 16/50\n",
      " 92/230 [===========>..................] - ETA: 8s - loss: 1.3413 - accuracy: 0.4694"
     ]
    },
    {
     "name": "stderr",
     "output_type": "stream",
     "text": [
      "2024-01-07 01:27:04.807033: W tensorflow/core/lib/png/png_io.cc:88] PNG warning: iCCP: extra compressed data\n"
     ]
    },
    {
     "name": "stdout",
     "output_type": "stream",
     "text": [
      "230/230 [==============================] - 16s 68ms/step - loss: 1.3240 - accuracy: 0.4835 - val_loss: 1.4771 - val_accuracy: 0.4383\n",
      "Epoch 17/50\n",
      " 93/230 [===========>..................] - ETA: 7s - loss: 1.3150 - accuracy: 0.4812"
     ]
    },
    {
     "name": "stderr",
     "output_type": "stream",
     "text": [
      "2024-01-07 01:27:20.352301: W tensorflow/core/lib/png/png_io.cc:88] PNG warning: iCCP: extra compressed data\n"
     ]
    },
    {
     "name": "stdout",
     "output_type": "stream",
     "text": [
      "230/230 [==============================] - 16s 68ms/step - loss: 1.3039 - accuracy: 0.4920 - val_loss: 1.3887 - val_accuracy: 0.4416\n",
      "Epoch 18/50\n",
      " 93/230 [===========>..................] - ETA: 8s - loss: 1.2976 - accuracy: 0.4919"
     ]
    },
    {
     "name": "stderr",
     "output_type": "stream",
     "text": [
      "2024-01-07 01:27:36.816176: W tensorflow/core/lib/png/png_io.cc:88] PNG warning: iCCP: extra compressed data\n"
     ]
    },
    {
     "name": "stdout",
     "output_type": "stream",
     "text": [
      "230/230 [==============================] - 16s 71ms/step - loss: 1.2939 - accuracy: 0.4977 - val_loss: 1.4451 - val_accuracy: 0.4221\n",
      "Epoch 19/50\n",
      " 94/230 [===========>..................] - ETA: 7s - loss: 1.2659 - accuracy: 0.5133"
     ]
    },
    {
     "name": "stderr",
     "output_type": "stream",
     "text": [
      "2024-01-07 01:27:52.855075: W tensorflow/core/lib/png/png_io.cc:88] PNG warning: iCCP: extra compressed data\n"
     ]
    },
    {
     "name": "stdout",
     "output_type": "stream",
     "text": [
      "230/230 [==============================] - 15s 66ms/step - loss: 1.2600 - accuracy: 0.5105 - val_loss: 1.3566 - val_accuracy: 0.4805\n",
      "Epoch 20/50\n",
      " 92/230 [===========>..................] - ETA: 8s - loss: 1.2508 - accuracy: 0.5034"
     ]
    },
    {
     "name": "stderr",
     "output_type": "stream",
     "text": [
      "2024-01-07 01:28:08.536726: W tensorflow/core/lib/png/png_io.cc:88] PNG warning: iCCP: extra compressed data\n"
     ]
    },
    {
     "name": "stdout",
     "output_type": "stream",
     "text": [
      "230/230 [==============================] - 16s 67ms/step - loss: 1.2271 - accuracy: 0.5214 - val_loss: 1.4184 - val_accuracy: 0.4708\n",
      "Epoch 21/50\n",
      " 93/230 [===========>..................] - ETA: 7s - loss: 1.2405 - accuracy: 0.5249"
     ]
    },
    {
     "name": "stderr",
     "output_type": "stream",
     "text": [
      "2024-01-07 01:28:23.983218: W tensorflow/core/lib/png/png_io.cc:88] PNG warning: iCCP: extra compressed data\n"
     ]
    },
    {
     "name": "stdout",
     "output_type": "stream",
     "text": [
      "230/230 [==============================] - 16s 67ms/step - loss: 1.2266 - accuracy: 0.5247 - val_loss: 1.4955 - val_accuracy: 0.3994\n",
      "Epoch 22/50\n",
      " 90/230 [==========>...................] - ETA: 8s - loss: 1.2137 - accuracy: 0.5194"
     ]
    },
    {
     "name": "stderr",
     "output_type": "stream",
     "text": [
      "2024-01-07 01:28:39.835553: W tensorflow/core/lib/png/png_io.cc:88] PNG warning: iCCP: extra compressed data\n"
     ]
    },
    {
     "name": "stdout",
     "output_type": "stream",
     "text": [
      "230/230 [==============================] - 16s 67ms/step - loss: 1.2128 - accuracy: 0.5293 - val_loss: 1.4382 - val_accuracy: 0.4838\n",
      "Epoch 23/50\n",
      " 93/230 [===========>..................] - ETA: 7s - loss: 1.2134 - accuracy: 0.5336"
     ]
    },
    {
     "name": "stderr",
     "output_type": "stream",
     "text": [
      "2024-01-07 01:28:55.285865: W tensorflow/core/lib/png/png_io.cc:88] PNG warning: iCCP: extra compressed data\n"
     ]
    },
    {
     "name": "stdout",
     "output_type": "stream",
     "text": [
      "230/230 [==============================] - 16s 67ms/step - loss: 1.1808 - accuracy: 0.5560 - val_loss: 1.4158 - val_accuracy: 0.4708\n",
      "Epoch 24/50\n",
      " 94/230 [===========>..................] - ETA: 7s - loss: 1.1822 - accuracy: 0.5366"
     ]
    },
    {
     "name": "stderr",
     "output_type": "stream",
     "text": [
      "2024-01-07 01:29:11.174169: W tensorflow/core/lib/png/png_io.cc:88] PNG warning: iCCP: extra compressed data\n"
     ]
    },
    {
     "name": "stdout",
     "output_type": "stream",
     "text": [
      "230/230 [==============================] - 15s 63ms/step - loss: 1.1640 - accuracy: 0.5468 - val_loss: 1.4458 - val_accuracy: 0.4578\n",
      "Epoch 25/50\n",
      " 94/230 [===========>..................] - ETA: 7s - loss: 1.1730 - accuracy: 0.5432"
     ]
    },
    {
     "name": "stderr",
     "output_type": "stream",
     "text": [
      "2024-01-07 01:29:25.597149: W tensorflow/core/lib/png/png_io.cc:88] PNG warning: iCCP: extra compressed data\n"
     ]
    },
    {
     "name": "stdout",
     "output_type": "stream",
     "text": [
      "230/230 [==============================] - 16s 67ms/step - loss: 1.1470 - accuracy: 0.5558 - val_loss: 1.4385 - val_accuracy: 0.4805\n",
      "Epoch 26/50\n",
      " 94/230 [===========>..................] - ETA: 7s - loss: 1.1640 - accuracy: 0.5332"
     ]
    },
    {
     "name": "stderr",
     "output_type": "stream",
     "text": [
      "2024-01-07 01:29:46.087508: W tensorflow/core/lib/png/png_io.cc:88] PNG warning: iCCP: extra compressed data\n"
     ]
    },
    {
     "name": "stdout",
     "output_type": "stream",
     "text": [
      "230/230 [==============================] - 15s 63ms/step - loss: 1.1418 - accuracy: 0.5500 - val_loss: 1.4445 - val_accuracy: 0.4481\n",
      "Epoch 27/50\n",
      " 94/230 [===========>..................] - ETA: 7s - loss: 1.1313 - accuracy: 0.5605"
     ]
    },
    {
     "name": "stderr",
     "output_type": "stream",
     "text": [
      "2024-01-07 01:30:00.958726: W tensorflow/core/lib/png/png_io.cc:88] PNG warning: iCCP: extra compressed data\n"
     ]
    },
    {
     "name": "stdout",
     "output_type": "stream",
     "text": [
      "230/230 [==============================] - 15s 63ms/step - loss: 1.1199 - accuracy: 0.5656 - val_loss: 1.4176 - val_accuracy: 0.4481\n",
      "Epoch 28/50\n",
      " 94/230 [===========>..................] - ETA: 7s - loss: 1.1180 - accuracy: 0.5738"
     ]
    },
    {
     "name": "stderr",
     "output_type": "stream",
     "text": [
      "2024-01-07 01:30:15.770902: W tensorflow/core/lib/png/png_io.cc:88] PNG warning: iCCP: extra compressed data\n"
     ]
    },
    {
     "name": "stdout",
     "output_type": "stream",
     "text": [
      "230/230 [==============================] - 15s 64ms/step - loss: 1.0833 - accuracy: 0.5792 - val_loss: 1.5487 - val_accuracy: 0.4545\n",
      "Epoch 29/50\n",
      " 94/230 [===========>..................] - ETA: 7s - loss: 1.1309 - accuracy: 0.5652"
     ]
    },
    {
     "name": "stderr",
     "output_type": "stream",
     "text": [
      "2024-01-07 01:30:30.870310: W tensorflow/core/lib/png/png_io.cc:88] PNG warning: iCCP: extra compressed data\n"
     ]
    },
    {
     "name": "stdout",
     "output_type": "stream",
     "text": [
      "230/230 [==============================] - 15s 66ms/step - loss: 1.1019 - accuracy: 0.5757 - val_loss: 1.5055 - val_accuracy: 0.4740\n",
      "Epoch 30/50\n",
      " 94/230 [===========>..................] - ETA: 6s - loss: 1.1071 - accuracy: 0.5705"
     ]
    },
    {
     "name": "stderr",
     "output_type": "stream",
     "text": [
      "2024-01-07 01:30:50.839966: W tensorflow/core/lib/png/png_io.cc:88] PNG warning: iCCP: extra compressed data\n"
     ]
    },
    {
     "name": "stdout",
     "output_type": "stream",
     "text": [
      "230/230 [==============================] - 14s 60ms/step - loss: 1.0775 - accuracy: 0.5809 - val_loss: 1.4764 - val_accuracy: 0.4221\n",
      "Epoch 31/50\n",
      " 94/230 [===========>..................] - ETA: 7s - loss: 1.0733 - accuracy: 0.5771"
     ]
    },
    {
     "name": "stderr",
     "output_type": "stream",
     "text": [
      "2024-01-07 01:31:05.455379: W tensorflow/core/lib/png/png_io.cc:88] PNG warning: iCCP: extra compressed data\n"
     ]
    },
    {
     "name": "stdout",
     "output_type": "stream",
     "text": [
      "230/230 [==============================] - 15s 64ms/step - loss: 1.0421 - accuracy: 0.5972 - val_loss: 1.5043 - val_accuracy: 0.4643\n",
      "Epoch 32/50\n",
      " 94/230 [===========>..................] - ETA: 7s - loss: 1.0933 - accuracy: 0.5758"
     ]
    },
    {
     "name": "stderr",
     "output_type": "stream",
     "text": [
      "2024-01-07 01:31:20.178045: W tensorflow/core/lib/png/png_io.cc:88] PNG warning: iCCP: extra compressed data\n"
     ]
    },
    {
     "name": "stdout",
     "output_type": "stream",
     "text": [
      "230/230 [==============================] - 15s 63ms/step - loss: 1.0229 - accuracy: 0.6035 - val_loss: 1.5511 - val_accuracy: 0.4643\n",
      "Epoch 33/50\n",
      " 93/230 [===========>..................] - ETA: 7s - loss: 1.0739 - accuracy: 0.5820"
     ]
    },
    {
     "name": "stderr",
     "output_type": "stream",
     "text": [
      "2024-01-07 01:31:34.921222: W tensorflow/core/lib/png/png_io.cc:88] PNG warning: iCCP: extra compressed data\n"
     ]
    },
    {
     "name": "stdout",
     "output_type": "stream",
     "text": [
      "230/230 [==============================] - 15s 63ms/step - loss: 1.0166 - accuracy: 0.6068 - val_loss: 1.4980 - val_accuracy: 0.4545\n",
      "Epoch 34/50\n",
      " 94/230 [===========>..................] - ETA: 7s - loss: 1.0266 - accuracy: 0.6037"
     ]
    },
    {
     "name": "stderr",
     "output_type": "stream",
     "text": [
      "2024-01-07 01:31:50.280980: W tensorflow/core/lib/png/png_io.cc:88] PNG warning: iCCP: extra compressed data\n"
     ]
    },
    {
     "name": "stdout",
     "output_type": "stream",
     "text": [
      "230/230 [==============================] - 16s 66ms/step - loss: 0.9827 - accuracy: 0.6253 - val_loss: 1.4287 - val_accuracy: 0.4903\n",
      "Epoch 35/50\n",
      " 93/230 [===========>..................] - ETA: 7s - loss: 1.0148 - accuracy: 0.5961"
     ]
    },
    {
     "name": "stderr",
     "output_type": "stream",
     "text": [
      "2024-01-07 01:32:05.403358: W tensorflow/core/lib/png/png_io.cc:88] PNG warning: iCCP: extra compressed data\n"
     ]
    },
    {
     "name": "stdout",
     "output_type": "stream",
     "text": [
      "230/230 [==============================] - 15s 65ms/step - loss: 0.9749 - accuracy: 0.6209 - val_loss: 1.5096 - val_accuracy: 0.4481\n",
      "Epoch 36/50\n",
      " 93/230 [===========>..................] - ETA: 7s - loss: 1.0139 - accuracy: 0.6223"
     ]
    },
    {
     "name": "stderr",
     "output_type": "stream",
     "text": [
      "2024-01-07 01:32:20.879680: W tensorflow/core/lib/png/png_io.cc:88] PNG warning: iCCP: extra compressed data\n"
     ]
    },
    {
     "name": "stdout",
     "output_type": "stream",
     "text": [
      "230/230 [==============================] - 15s 65ms/step - loss: 0.9613 - accuracy: 0.6392 - val_loss: 1.6453 - val_accuracy: 0.4448\n",
      "Epoch 37/50\n",
      " 94/230 [===========>..................] - ETA: 7s - loss: 0.9734 - accuracy: 0.6250"
     ]
    },
    {
     "name": "stderr",
     "output_type": "stream",
     "text": [
      "2024-01-07 01:32:35.925682: W tensorflow/core/lib/png/png_io.cc:88] PNG warning: iCCP: extra compressed data\n"
     ]
    },
    {
     "name": "stdout",
     "output_type": "stream",
     "text": [
      "230/230 [==============================] - 15s 64ms/step - loss: 0.9237 - accuracy: 0.6485 - val_loss: 1.6637 - val_accuracy: 0.4545\n",
      "Epoch 38/50\n",
      " 94/230 [===========>..................] - ETA: 7s - loss: 0.9646 - accuracy: 0.6223"
     ]
    },
    {
     "name": "stderr",
     "output_type": "stream",
     "text": [
      "2024-01-07 01:32:50.839701: W tensorflow/core/lib/png/png_io.cc:88] PNG warning: iCCP: extra compressed data\n"
     ]
    },
    {
     "name": "stdout",
     "output_type": "stream",
     "text": [
      "230/230 [==============================] - 15s 66ms/step - loss: 0.9211 - accuracy: 0.6496 - val_loss: 1.4998 - val_accuracy: 0.4773\n",
      "Epoch 39/50\n",
      " 92/230 [===========>..................] - ETA: 7s - loss: 0.9226 - accuracy: 0.6399"
     ]
    },
    {
     "name": "stderr",
     "output_type": "stream",
     "text": [
      "2024-01-07 01:33:06.278462: W tensorflow/core/lib/png/png_io.cc:88] PNG warning: iCCP: extra compressed data\n"
     ]
    },
    {
     "name": "stdout",
     "output_type": "stream",
     "text": [
      "230/230 [==============================] - 15s 64ms/step - loss: 0.9081 - accuracy: 0.6599 - val_loss: 1.5863 - val_accuracy: 0.4610\n",
      "Epoch 40/50\n",
      " 94/230 [===========>..................] - ETA: 7s - loss: 0.9214 - accuracy: 0.6509"
     ]
    },
    {
     "name": "stderr",
     "output_type": "stream",
     "text": [
      "2024-01-07 01:33:21.192228: W tensorflow/core/lib/png/png_io.cc:88] PNG warning: iCCP: extra compressed data\n"
     ]
    },
    {
     "name": "stdout",
     "output_type": "stream",
     "text": [
      "230/230 [==============================] - 15s 62ms/step - loss: 0.8880 - accuracy: 0.6632 - val_loss: 1.6101 - val_accuracy: 0.5000\n",
      "Epoch 41/50\n",
      " 93/230 [===========>..................] - ETA: 8s - loss: 0.9178 - accuracy: 0.6458"
     ]
    },
    {
     "name": "stderr",
     "output_type": "stream",
     "text": [
      "2024-01-07 01:33:36.311984: W tensorflow/core/lib/png/png_io.cc:88] PNG warning: iCCP: extra compressed data\n"
     ]
    },
    {
     "name": "stdout",
     "output_type": "stream",
     "text": [
      "230/230 [==============================] - 16s 67ms/step - loss: 0.8839 - accuracy: 0.6640 - val_loss: 1.7064 - val_accuracy: 0.4643\n",
      "Epoch 42/50\n",
      " 93/230 [===========>..................] - ETA: 7s - loss: 0.8928 - accuracy: 0.6653"
     ]
    },
    {
     "name": "stderr",
     "output_type": "stream",
     "text": [
      "2024-01-07 01:33:51.890596: W tensorflow/core/lib/png/png_io.cc:88] PNG warning: iCCP: extra compressed data\n"
     ]
    },
    {
     "name": "stdout",
     "output_type": "stream",
     "text": [
      "230/230 [==============================] - 16s 67ms/step - loss: 0.8598 - accuracy: 0.6733 - val_loss: 1.9322 - val_accuracy: 0.4773\n",
      "Epoch 43/50\n",
      " 92/230 [===========>..................] - ETA: 8s - loss: 0.9070 - accuracy: 0.6461"
     ]
    },
    {
     "name": "stderr",
     "output_type": "stream",
     "text": [
      "2024-01-07 01:34:07.795874: W tensorflow/core/lib/png/png_io.cc:88] PNG warning: iCCP: extra compressed data\n"
     ]
    },
    {
     "name": "stdout",
     "output_type": "stream",
     "text": [
      "230/230 [==============================] - 15s 66ms/step - loss: 0.8621 - accuracy: 0.6749 - val_loss: 1.6822 - val_accuracy: 0.4740\n",
      "Epoch 44/50\n",
      " 94/230 [===========>..................] - ETA: 7s - loss: 0.8585 - accuracy: 0.6762"
     ]
    },
    {
     "name": "stderr",
     "output_type": "stream",
     "text": [
      "2024-01-07 01:34:23.194450: W tensorflow/core/lib/png/png_io.cc:88] PNG warning: iCCP: extra compressed data\n"
     ]
    },
    {
     "name": "stdout",
     "output_type": "stream",
     "text": [
      "230/230 [==============================] - 16s 67ms/step - loss: 0.8474 - accuracy: 0.6820 - val_loss: 1.6888 - val_accuracy: 0.4545\n",
      "Epoch 45/50\n",
      " 94/230 [===========>..................] - ETA: 7s - loss: 0.8410 - accuracy: 0.6656"
     ]
    },
    {
     "name": "stderr",
     "output_type": "stream",
     "text": [
      "2024-01-07 01:34:38.926757: W tensorflow/core/lib/png/png_io.cc:88] PNG warning: iCCP: extra compressed data\n"
     ]
    },
    {
     "name": "stdout",
     "output_type": "stream",
     "text": [
      "230/230 [==============================] - 15s 66ms/step - loss: 0.8032 - accuracy: 0.6856 - val_loss: 1.7159 - val_accuracy: 0.4675\n",
      "Epoch 46/50\n",
      " 94/230 [===========>..................] - ETA: 7s - loss: 0.8634 - accuracy: 0.6709"
     ]
    },
    {
     "name": "stderr",
     "output_type": "stream",
     "text": [
      "2024-01-07 01:34:54.479011: W tensorflow/core/lib/png/png_io.cc:88] PNG warning: iCCP: extra compressed data\n"
     ]
    },
    {
     "name": "stdout",
     "output_type": "stream",
     "text": [
      "230/230 [==============================] - 16s 67ms/step - loss: 0.8121 - accuracy: 0.6891 - val_loss: 1.8269 - val_accuracy: 0.4318\n",
      "Epoch 47/50\n",
      " 93/230 [===========>..................] - ETA: 7s - loss: 0.8682 - accuracy: 0.6714"
     ]
    },
    {
     "name": "stderr",
     "output_type": "stream",
     "text": [
      "2024-01-07 01:35:10.206572: W tensorflow/core/lib/png/png_io.cc:88] PNG warning: iCCP: extra compressed data\n"
     ]
    },
    {
     "name": "stdout",
     "output_type": "stream",
     "text": [
      "230/230 [==============================] - 16s 66ms/step - loss: 0.7868 - accuracy: 0.7038 - val_loss: 1.8961 - val_accuracy: 0.4675\n",
      "Epoch 48/50\n",
      " 93/230 [===========>..................] - ETA: 7s - loss: 0.8021 - accuracy: 0.6835"
     ]
    },
    {
     "name": "stderr",
     "output_type": "stream",
     "text": [
      "2024-01-07 01:35:25.463989: W tensorflow/core/lib/png/png_io.cc:88] PNG warning: iCCP: extra compressed data\n"
     ]
    },
    {
     "name": "stdout",
     "output_type": "stream",
     "text": [
      "230/230 [==============================] - 15s 65ms/step - loss: 0.7627 - accuracy: 0.7049 - val_loss: 1.7556 - val_accuracy: 0.4675\n",
      "Epoch 49/50\n",
      " 93/230 [===========>..................] - ETA: 7s - loss: 0.8048 - accuracy: 0.6922"
     ]
    },
    {
     "name": "stderr",
     "output_type": "stream",
     "text": [
      "2024-01-07 01:35:40.652429: W tensorflow/core/lib/png/png_io.cc:88] PNG warning: iCCP: extra compressed data\n"
     ]
    },
    {
     "name": "stdout",
     "output_type": "stream",
     "text": [
      "230/230 [==============================] - 16s 67ms/step - loss: 0.7645 - accuracy: 0.7098 - val_loss: 2.1638 - val_accuracy: 0.4123\n",
      "Epoch 50/50\n",
      " 93/230 [===========>..................] - ETA: 8s - loss: 0.8087 - accuracy: 0.6841"
     ]
    },
    {
     "name": "stderr",
     "output_type": "stream",
     "text": [
      "2024-01-07 01:35:56.925066: W tensorflow/core/lib/png/png_io.cc:88] PNG warning: iCCP: extra compressed data\n"
     ]
    },
    {
     "name": "stdout",
     "output_type": "stream",
     "text": [
      "230/230 [==============================] - 16s 67ms/step - loss: 0.7606 - accuracy: 0.7128 - val_loss: 1.8232 - val_accuracy: 0.4870\n"
     ]
    },
    {
     "name": "stderr",
     "output_type": "stream",
     "text": [
      "2024-01-07 01:36:06.884883: I tensorflow/core/common_runtime/executor.cc:1197] [/device:CPU:0] (DEBUG INFO) Executor start aborting (this does not indicate an error and you can ignore this message): INVALID_ARGUMENT: You must feed a value for placeholder tensor 'Placeholder/_4' with dtype int32 and shape [916]\n",
      "\t [[{{node Placeholder/_4}}]]\n",
      "2024-01-07 01:36:06.886230: I tensorflow/core/common_runtime/executor.cc:1197] [/device:CPU:0] (DEBUG INFO) Executor start aborting (this does not indicate an error and you can ignore this message): INVALID_ARGUMENT: You must feed a value for placeholder tensor 'Placeholder/_0' with dtype string and shape [916]\n",
      "\t [[{{node Placeholder/_0}}]]\n"
     ]
    },
    {
     "name": "stdout",
     "output_type": "stream",
     "text": [
      "38/38 [==============================] - 2s 40ms/step - loss: 1.9194 - accuracy: 0.4934\n",
      "--- Starting trial: run-34\n",
      "{'batch_size': 16, 'img_dim_size': 256, 'optimizer': 'rmsprop'}\n",
      "Found 4583 files belonging to 7 classes.\n",
      "Using 3667 files for training.\n",
      "Found 4583 files belonging to 7 classes.\n",
      "Using 916 files for validation.\n",
      "Epoch 1/50\n"
     ]
    },
    {
     "name": "stderr",
     "output_type": "stream",
     "text": [
      "2024-01-07 01:36:10.580155: I tensorflow/core/common_runtime/executor.cc:1197] [/device:CPU:0] (DEBUG INFO) Executor start aborting (this does not indicate an error and you can ignore this message): INVALID_ARGUMENT: You must feed a value for placeholder tensor 'Placeholder/_4' with dtype int32 and shape [3667]\n",
      "\t [[{{node Placeholder/_4}}]]\n",
      "2024-01-07 01:36:10.581061: I tensorflow/core/common_runtime/executor.cc:1197] [/device:CPU:0] (DEBUG INFO) Executor start aborting (this does not indicate an error and you can ignore this message): INVALID_ARGUMENT: You must feed a value for placeholder tensor 'Placeholder/_4' with dtype int32 and shape [3667]\n",
      "\t [[{{node Placeholder/_4}}]]\n"
     ]
    },
    {
     "name": "stdout",
     "output_type": "stream",
     "text": [
      " 93/230 [===========>..................] - ETA: 7s - loss: 1.8261 - accuracy: 0.2614"
     ]
    },
    {
     "name": "stderr",
     "output_type": "stream",
     "text": [
      "2024-01-07 01:36:19.977982: W tensorflow/core/lib/png/png_io.cc:88] PNG warning: iCCP: extra compressed data\n"
     ]
    },
    {
     "name": "stdout",
     "output_type": "stream",
     "text": [
      "229/230 [============================>.] - ETA: 0s - loss: 1.7926 - accuracy: 0.2795"
     ]
    },
    {
     "name": "stderr",
     "output_type": "stream",
     "text": [
      "2024-01-07 01:36:27.826403: I tensorflow/core/common_runtime/executor.cc:1197] [/device:CPU:0] (DEBUG INFO) Executor start aborting (this does not indicate an error and you can ignore this message): INVALID_ARGUMENT: You must feed a value for placeholder tensor 'Placeholder/_4' with dtype int32 and shape [916]\n",
      "\t [[{{node Placeholder/_4}}]]\n",
      "2024-01-07 01:36:27.827816: I tensorflow/core/common_runtime/executor.cc:1197] [/device:CPU:0] (DEBUG INFO) Executor start aborting (this does not indicate an error and you can ignore this message): INVALID_ARGUMENT: You must feed a value for placeholder tensor 'Placeholder/_4' with dtype int32 and shape [916]\n",
      "\t [[{{node Placeholder/_4}}]]\n"
     ]
    },
    {
     "name": "stdout",
     "output_type": "stream",
     "text": [
      "230/230 [==============================] - 20s 65ms/step - loss: 1.7925 - accuracy: 0.2795 - val_loss: 1.7339 - val_accuracy: 0.3019\n",
      "Epoch 2/50\n",
      " 94/230 [===========>..................] - ETA: 7s - loss: 1.6983 - accuracy: 0.3305"
     ]
    },
    {
     "name": "stderr",
     "output_type": "stream",
     "text": [
      "2024-01-07 01:36:35.245027: W tensorflow/core/lib/png/png_io.cc:88] PNG warning: iCCP: extra compressed data\n"
     ]
    },
    {
     "name": "stdout",
     "output_type": "stream",
     "text": [
      "230/230 [==============================] - 15s 64ms/step - loss: 1.6929 - accuracy: 0.3368 - val_loss: 1.7777 - val_accuracy: 0.3539\n",
      "Epoch 3/50\n",
      " 92/230 [===========>..................] - ETA: 7s - loss: 1.6428 - accuracy: 0.3668"
     ]
    },
    {
     "name": "stderr",
     "output_type": "stream",
     "text": [
      "2024-01-07 01:36:50.489275: W tensorflow/core/lib/png/png_io.cc:88] PNG warning: iCCP: extra compressed data\n"
     ]
    },
    {
     "name": "stdout",
     "output_type": "stream",
     "text": [
      "230/230 [==============================] - 15s 65ms/step - loss: 1.6360 - accuracy: 0.3695 - val_loss: 1.6989 - val_accuracy: 0.3766\n",
      "Epoch 4/50\n",
      " 93/230 [===========>..................] - ETA: 7s - loss: 1.5827 - accuracy: 0.3669"
     ]
    },
    {
     "name": "stderr",
     "output_type": "stream",
     "text": [
      "2024-01-07 01:37:05.931036: W tensorflow/core/lib/png/png_io.cc:88] PNG warning: iCCP: extra compressed data\n"
     ]
    },
    {
     "name": "stdout",
     "output_type": "stream",
     "text": [
      "230/230 [==============================] - 15s 65ms/step - loss: 1.5848 - accuracy: 0.3801 - val_loss: 1.8093 - val_accuracy: 0.3604\n",
      "Epoch 5/50\n",
      " 92/230 [===========>..................] - ETA: 7s - loss: 1.5476 - accuracy: 0.3845"
     ]
    },
    {
     "name": "stderr",
     "output_type": "stream",
     "text": [
      "2024-01-07 01:37:21.061035: W tensorflow/core/lib/png/png_io.cc:88] PNG warning: iCCP: extra compressed data\n"
     ]
    },
    {
     "name": "stdout",
     "output_type": "stream",
     "text": [
      "230/230 [==============================] - 16s 67ms/step - loss: 1.5475 - accuracy: 0.3954 - val_loss: 1.6560 - val_accuracy: 0.3377\n",
      "Epoch 6/50\n",
      " 94/230 [===========>..................] - ETA: 7s - loss: 1.5197 - accuracy: 0.4049"
     ]
    },
    {
     "name": "stderr",
     "output_type": "stream",
     "text": [
      "2024-01-07 01:37:41.263595: W tensorflow/core/lib/png/png_io.cc:88] PNG warning: iCCP: extra compressed data\n"
     ]
    },
    {
     "name": "stdout",
     "output_type": "stream",
     "text": [
      "230/230 [==============================] - 14s 62ms/step - loss: 1.4967 - accuracy: 0.4186 - val_loss: 1.6477 - val_accuracy: 0.3701\n",
      "Epoch 7/50\n",
      " 92/230 [===========>..................] - ETA: 7s - loss: 1.4780 - accuracy: 0.4171"
     ]
    },
    {
     "name": "stderr",
     "output_type": "stream",
     "text": [
      "2024-01-07 01:37:55.897952: W tensorflow/core/lib/png/png_io.cc:88] PNG warning: iCCP: extra compressed data\n"
     ]
    },
    {
     "name": "stdout",
     "output_type": "stream",
     "text": [
      "230/230 [==============================] - 15s 66ms/step - loss: 1.4668 - accuracy: 0.4339 - val_loss: 1.5602 - val_accuracy: 0.3734\n",
      "Epoch 8/50\n",
      " 94/230 [===========>..................] - ETA: 6s - loss: 1.4459 - accuracy: 0.4455"
     ]
    },
    {
     "name": "stderr",
     "output_type": "stream",
     "text": [
      "2024-01-07 01:38:16.087193: W tensorflow/core/lib/png/png_io.cc:88] PNG warning: iCCP: extra compressed data\n"
     ]
    },
    {
     "name": "stdout",
     "output_type": "stream",
     "text": [
      "230/230 [==============================] - 14s 60ms/step - loss: 1.4455 - accuracy: 0.4513 - val_loss: 1.5092 - val_accuracy: 0.4383\n",
      "Epoch 9/50\n",
      " 93/230 [===========>..................] - ETA: 7s - loss: 1.4082 - accuracy: 0.4563"
     ]
    },
    {
     "name": "stderr",
     "output_type": "stream",
     "text": [
      "2024-01-07 01:38:30.483962: W tensorflow/core/lib/png/png_io.cc:88] PNG warning: iCCP: extra compressed data\n"
     ]
    },
    {
     "name": "stdout",
     "output_type": "stream",
     "text": [
      "230/230 [==============================] - 16s 67ms/step - loss: 1.4301 - accuracy: 0.4557 - val_loss: 1.5226 - val_accuracy: 0.4318\n",
      "Epoch 10/50\n",
      " 95/230 [===========>..................] - ETA: 8s - loss: 1.3937 - accuracy: 0.4697"
     ]
    },
    {
     "name": "stderr",
     "output_type": "stream",
     "text": [
      "2024-01-07 01:38:47.127692: W tensorflow/core/lib/png/png_io.cc:88] PNG warning: iCCP: extra compressed data\n"
     ]
    },
    {
     "name": "stdout",
     "output_type": "stream",
     "text": [
      "230/230 [==============================] - 17s 71ms/step - loss: 1.3940 - accuracy: 0.4688 - val_loss: 1.5080 - val_accuracy: 0.5000\n",
      "Epoch 11/50\n",
      " 92/230 [===========>..................] - ETA: 9s - loss: 1.3705 - accuracy: 0.4796"
     ]
    },
    {
     "name": "stderr",
     "output_type": "stream",
     "text": [
      "2024-01-07 01:39:04.402863: W tensorflow/core/lib/png/png_io.cc:88] PNG warning: iCCP: extra compressed data\n"
     ]
    },
    {
     "name": "stdout",
     "output_type": "stream",
     "text": [
      "230/230 [==============================] - 19s 80ms/step - loss: 1.3759 - accuracy: 0.4805 - val_loss: 1.6696 - val_accuracy: 0.4188\n",
      "Epoch 12/50\n",
      " 94/230 [===========>..................] - ETA: 9s - loss: 1.3563 - accuracy: 0.4668"
     ]
    },
    {
     "name": "stderr",
     "output_type": "stream",
     "text": [
      "2024-01-07 01:39:24.676603: W tensorflow/core/lib/png/png_io.cc:88] PNG warning: iCCP: extra compressed data\n"
     ]
    },
    {
     "name": "stdout",
     "output_type": "stream",
     "text": [
      "230/230 [==============================] - 19s 80ms/step - loss: 1.3448 - accuracy: 0.4759 - val_loss: 1.5394 - val_accuracy: 0.4221\n",
      "Epoch 13/50\n",
      " 94/230 [===========>..................] - ETA: 9s - loss: 1.3229 - accuracy: 0.4767"
     ]
    },
    {
     "name": "stderr",
     "output_type": "stream",
     "text": [
      "2024-01-07 01:39:43.771046: W tensorflow/core/lib/png/png_io.cc:88] PNG warning: iCCP: extra compressed data\n"
     ]
    },
    {
     "name": "stdout",
     "output_type": "stream",
     "text": [
      "230/230 [==============================] - 19s 80ms/step - loss: 1.3377 - accuracy: 0.4906 - val_loss: 1.5487 - val_accuracy: 0.3929\n",
      "Epoch 14/50\n",
      " 93/230 [===========>..................] - ETA: 9s - loss: 1.3240 - accuracy: 0.4892"
     ]
    },
    {
     "name": "stderr",
     "output_type": "stream",
     "text": [
      "2024-01-07 01:40:03.940763: W tensorflow/core/lib/png/png_io.cc:88] PNG warning: iCCP: extra compressed data\n"
     ]
    },
    {
     "name": "stdout",
     "output_type": "stream",
     "text": [
      "230/230 [==============================] - 19s 80ms/step - loss: 1.3039 - accuracy: 0.4993 - val_loss: 1.3921 - val_accuracy: 0.4675\n",
      "Epoch 15/50\n",
      " 92/230 [===========>..................] - ETA: 9s - loss: 1.3279 - accuracy: 0.4898"
     ]
    },
    {
     "name": "stderr",
     "output_type": "stream",
     "text": [
      "2024-01-07 01:40:24.195232: W tensorflow/core/lib/png/png_io.cc:88] PNG warning: iCCP: extra compressed data\n"
     ]
    },
    {
     "name": "stdout",
     "output_type": "stream",
     "text": [
      "230/230 [==============================] - 18s 79ms/step - loss: 1.2981 - accuracy: 0.5045 - val_loss: 1.7015 - val_accuracy: 0.3571\n",
      "Epoch 16/50\n",
      " 93/230 [===========>..................] - ETA: 9s - loss: 1.3114 - accuracy: 0.4973"
     ]
    },
    {
     "name": "stderr",
     "output_type": "stream",
     "text": [
      "2024-01-07 01:40:43.125788: W tensorflow/core/lib/png/png_io.cc:88] PNG warning: iCCP: extra compressed data\n"
     ]
    },
    {
     "name": "stdout",
     "output_type": "stream",
     "text": [
      "230/230 [==============================] - 19s 80ms/step - loss: 1.2818 - accuracy: 0.5061 - val_loss: 1.7759 - val_accuracy: 0.3701\n",
      "Epoch 17/50\n",
      " 94/230 [===========>..................] - ETA: 9s - loss: 1.2854 - accuracy: 0.4960"
     ]
    },
    {
     "name": "stderr",
     "output_type": "stream",
     "text": [
      "2024-01-07 01:41:01.714085: W tensorflow/core/lib/png/png_io.cc:88] PNG warning: iCCP: extra compressed data\n"
     ]
    },
    {
     "name": "stdout",
     "output_type": "stream",
     "text": [
      "230/230 [==============================] - 19s 81ms/step - loss: 1.2674 - accuracy: 0.5089 - val_loss: 1.4965 - val_accuracy: 0.4513\n",
      "Epoch 18/50\n",
      " 91/230 [==========>...................] - ETA: 9s - loss: 1.2499 - accuracy: 0.5069"
     ]
    },
    {
     "name": "stderr",
     "output_type": "stream",
     "text": [
      "2024-01-07 01:41:20.677554: W tensorflow/core/lib/png/png_io.cc:88] PNG warning: iCCP: extra compressed data\n"
     ]
    },
    {
     "name": "stdout",
     "output_type": "stream",
     "text": [
      "230/230 [==============================] - 18s 78ms/step - loss: 1.2600 - accuracy: 0.5184 - val_loss: 1.5012 - val_accuracy: 0.3994\n",
      "Epoch 19/50\n",
      " 91/230 [==========>...................] - ETA: 9s - loss: 1.2535 - accuracy: 0.5117"
     ]
    },
    {
     "name": "stderr",
     "output_type": "stream",
     "text": [
      "2024-01-07 01:41:38.971382: W tensorflow/core/lib/png/png_io.cc:88] PNG warning: iCCP: extra compressed data\n"
     ]
    },
    {
     "name": "stdout",
     "output_type": "stream",
     "text": [
      "230/230 [==============================] - 19s 80ms/step - loss: 1.2614 - accuracy: 0.5222 - val_loss: 1.5501 - val_accuracy: 0.4773\n",
      "Epoch 20/50\n",
      " 91/230 [==========>...................] - ETA: 10s - loss: 1.2532 - accuracy: 0.5179"
     ]
    },
    {
     "name": "stderr",
     "output_type": "stream",
     "text": [
      "2024-01-07 01:41:58.218438: W tensorflow/core/lib/png/png_io.cc:88] PNG warning: iCCP: extra compressed data\n"
     ]
    },
    {
     "name": "stdout",
     "output_type": "stream",
     "text": [
      "230/230 [==============================] - 20s 86ms/step - loss: 1.2257 - accuracy: 0.5350 - val_loss: 1.7909 - val_accuracy: 0.3669\n",
      "Epoch 21/50\n",
      " 93/230 [===========>..................] - ETA: 8s - loss: 1.2438 - accuracy: 0.5222"
     ]
    },
    {
     "name": "stderr",
     "output_type": "stream",
     "text": [
      "2024-01-07 01:42:18.115117: W tensorflow/core/lib/png/png_io.cc:88] PNG warning: iCCP: extra compressed data\n"
     ]
    },
    {
     "name": "stdout",
     "output_type": "stream",
     "text": [
      "230/230 [==============================] - 18s 78ms/step - loss: 1.2142 - accuracy: 0.5307 - val_loss: 1.8124 - val_accuracy: 0.4318\n",
      "Epoch 22/50\n",
      " 92/230 [===========>..................] - ETA: 9s - loss: 1.1889 - accuracy: 0.5510"
     ]
    },
    {
     "name": "stderr",
     "output_type": "stream",
     "text": [
      "2024-01-07 01:42:36.506565: W tensorflow/core/lib/png/png_io.cc:88] PNG warning: iCCP: extra compressed data\n"
     ]
    },
    {
     "name": "stdout",
     "output_type": "stream",
     "text": [
      "230/230 [==============================] - 19s 79ms/step - loss: 1.1935 - accuracy: 0.5574 - val_loss: 1.7886 - val_accuracy: 0.4221\n",
      "Epoch 23/50\n",
      " 91/230 [==========>...................] - ETA: 9s - loss: 1.1989 - accuracy: 0.5357"
     ]
    },
    {
     "name": "stderr",
     "output_type": "stream",
     "text": [
      "2024-01-07 01:42:56.899428: W tensorflow/core/lib/png/png_io.cc:88] PNG warning: iCCP: extra compressed data\n"
     ]
    },
    {
     "name": "stdout",
     "output_type": "stream",
     "text": [
      "230/230 [==============================] - 18s 79ms/step - loss: 1.1828 - accuracy: 0.5533 - val_loss: 1.5567 - val_accuracy: 0.4221\n",
      "Epoch 24/50\n",
      " 94/230 [===========>..................] - ETA: 8s - loss: 1.1860 - accuracy: 0.5359"
     ]
    },
    {
     "name": "stderr",
     "output_type": "stream",
     "text": [
      "2024-01-07 01:43:17.341778: W tensorflow/core/lib/png/png_io.cc:88] PNG warning: iCCP: extra compressed data\n"
     ]
    },
    {
     "name": "stdout",
     "output_type": "stream",
     "text": [
      "230/230 [==============================] - 18s 78ms/step - loss: 1.1850 - accuracy: 0.5536 - val_loss: 1.6331 - val_accuracy: 0.4091\n",
      "Epoch 25/50\n",
      " 93/230 [===========>..................] - ETA: 9s - loss: 1.1534 - accuracy: 0.5598"
     ]
    },
    {
     "name": "stderr",
     "output_type": "stream",
     "text": [
      "2024-01-07 01:43:35.783750: W tensorflow/core/lib/png/png_io.cc:88] PNG warning: iCCP: extra compressed data\n"
     ]
    },
    {
     "name": "stdout",
     "output_type": "stream",
     "text": [
      "230/230 [==============================] - 18s 78ms/step - loss: 1.1690 - accuracy: 0.5528 - val_loss: 1.7424 - val_accuracy: 0.4578\n",
      "Epoch 26/50\n",
      " 93/230 [===========>..................] - ETA: 9s - loss: 1.1585 - accuracy: 0.5477"
     ]
    },
    {
     "name": "stderr",
     "output_type": "stream",
     "text": [
      "2024-01-07 01:43:54.037688: W tensorflow/core/lib/png/png_io.cc:88] PNG warning: iCCP: extra compressed data\n"
     ]
    },
    {
     "name": "stdout",
     "output_type": "stream",
     "text": [
      "230/230 [==============================] - 19s 82ms/step - loss: 1.1519 - accuracy: 0.5667 - val_loss: 1.7743 - val_accuracy: 0.4026\n",
      "Epoch 27/50\n",
      " 93/230 [===========>..................] - ETA: 8s - loss: 1.1865 - accuracy: 0.5712"
     ]
    },
    {
     "name": "stderr",
     "output_type": "stream",
     "text": [
      "2024-01-07 01:44:13.216217: W tensorflow/core/lib/png/png_io.cc:88] PNG warning: iCCP: extra compressed data\n"
     ]
    },
    {
     "name": "stdout",
     "output_type": "stream",
     "text": [
      "230/230 [==============================] - 19s 80ms/step - loss: 1.1711 - accuracy: 0.5661 - val_loss: 1.5405 - val_accuracy: 0.4578\n",
      "Epoch 28/50\n",
      " 90/230 [==========>...................] - ETA: 9s - loss: 1.1824 - accuracy: 0.5535"
     ]
    },
    {
     "name": "stderr",
     "output_type": "stream",
     "text": [
      "2024-01-07 01:44:31.775986: W tensorflow/core/lib/png/png_io.cc:88] PNG warning: iCCP: extra compressed data\n"
     ]
    },
    {
     "name": "stdout",
     "output_type": "stream",
     "text": [
      "230/230 [==============================] - 18s 79ms/step - loss: 1.1560 - accuracy: 0.5702 - val_loss: 1.7824 - val_accuracy: 0.4740\n",
      "Epoch 29/50\n",
      " 91/230 [==========>...................] - ETA: 9s - loss: 1.1356 - accuracy: 0.5817"
     ]
    },
    {
     "name": "stderr",
     "output_type": "stream",
     "text": [
      "2024-01-07 01:44:52.377519: W tensorflow/core/lib/png/png_io.cc:88] PNG warning: iCCP: extra compressed data\n"
     ]
    },
    {
     "name": "stdout",
     "output_type": "stream",
     "text": [
      "230/230 [==============================] - 19s 80ms/step - loss: 1.1338 - accuracy: 0.5806 - val_loss: 1.6032 - val_accuracy: 0.4351\n",
      "Epoch 30/50\n",
      " 93/230 [===========>..................] - ETA: 9s - loss: 1.1291 - accuracy: 0.5719"
     ]
    },
    {
     "name": "stderr",
     "output_type": "stream",
     "text": [
      "2024-01-07 01:45:11.411487: W tensorflow/core/lib/png/png_io.cc:88] PNG warning: iCCP: extra compressed data\n"
     ]
    },
    {
     "name": "stdout",
     "output_type": "stream",
     "text": [
      "230/230 [==============================] - 19s 80ms/step - loss: 1.1284 - accuracy: 0.5819 - val_loss: 1.5454 - val_accuracy: 0.4903\n",
      "Epoch 31/50\n",
      " 91/230 [==========>...................] - ETA: 9s - loss: 1.1299 - accuracy: 0.5749"
     ]
    },
    {
     "name": "stderr",
     "output_type": "stream",
     "text": [
      "2024-01-07 01:45:30.173261: W tensorflow/core/lib/png/png_io.cc:88] PNG warning: iCCP: extra compressed data\n"
     ]
    },
    {
     "name": "stdout",
     "output_type": "stream",
     "text": [
      "230/230 [==============================] - 19s 82ms/step - loss: 1.1212 - accuracy: 0.5836 - val_loss: 2.2664 - val_accuracy: 0.4610\n",
      "Epoch 32/50\n",
      " 94/230 [===========>..................] - ETA: 9s - loss: 1.1264 - accuracy: 0.5725"
     ]
    },
    {
     "name": "stderr",
     "output_type": "stream",
     "text": [
      "2024-01-07 01:45:49.349721: W tensorflow/core/lib/png/png_io.cc:88] PNG warning: iCCP: extra compressed data\n"
     ]
    },
    {
     "name": "stdout",
     "output_type": "stream",
     "text": [
      "230/230 [==============================] - 19s 81ms/step - loss: 1.1049 - accuracy: 0.5961 - val_loss: 1.6001 - val_accuracy: 0.4513\n",
      "Epoch 33/50\n",
      " 93/230 [===========>..................] - ETA: 9s - loss: 1.1228 - accuracy: 0.5853"
     ]
    },
    {
     "name": "stderr",
     "output_type": "stream",
     "text": [
      "2024-01-07 01:46:08.632470: W tensorflow/core/lib/png/png_io.cc:88] PNG warning: iCCP: extra compressed data\n"
     ]
    },
    {
     "name": "stdout",
     "output_type": "stream",
     "text": [
      "230/230 [==============================] - 19s 83ms/step - loss: 1.0893 - accuracy: 0.5999 - val_loss: 1.7471 - val_accuracy: 0.3734\n",
      "Epoch 34/50\n",
      " 91/230 [==========>...................] - ETA: 9s - loss: 1.0952 - accuracy: 0.5886"
     ]
    },
    {
     "name": "stderr",
     "output_type": "stream",
     "text": [
      "2024-01-07 01:46:27.543987: W tensorflow/core/lib/png/png_io.cc:88] PNG warning: iCCP: extra compressed data\n"
     ]
    },
    {
     "name": "stdout",
     "output_type": "stream",
     "text": [
      "230/230 [==============================] - 19s 79ms/step - loss: 1.0857 - accuracy: 0.5923 - val_loss: 1.9716 - val_accuracy: 0.4416\n",
      "Epoch 35/50\n",
      " 92/230 [===========>..................] - ETA: 9s - loss: 1.1030 - accuracy: 0.5808"
     ]
    },
    {
     "name": "stderr",
     "output_type": "stream",
     "text": [
      "2024-01-07 01:46:46.535233: W tensorflow/core/lib/png/png_io.cc:88] PNG warning: iCCP: extra compressed data\n"
     ]
    },
    {
     "name": "stdout",
     "output_type": "stream",
     "text": [
      "230/230 [==============================] - 19s 81ms/step - loss: 1.0862 - accuracy: 0.5931 - val_loss: 1.8190 - val_accuracy: 0.4708\n",
      "Epoch 36/50\n",
      " 94/230 [===========>..................] - ETA: 9s - loss: 1.0535 - accuracy: 0.6104"
     ]
    },
    {
     "name": "stderr",
     "output_type": "stream",
     "text": [
      "2024-01-07 01:47:06.810271: W tensorflow/core/lib/png/png_io.cc:88] PNG warning: iCCP: extra compressed data\n"
     ]
    },
    {
     "name": "stdout",
     "output_type": "stream",
     "text": [
      "230/230 [==============================] - 18s 78ms/step - loss: 1.0518 - accuracy: 0.6174 - val_loss: 2.0031 - val_accuracy: 0.4643\n",
      "Epoch 37/50\n",
      " 94/230 [===========>..................] - ETA: 7s - loss: 1.0912 - accuracy: 0.5991"
     ]
    },
    {
     "name": "stderr",
     "output_type": "stream",
     "text": [
      "2024-01-07 01:47:23.806738: W tensorflow/core/lib/png/png_io.cc:88] PNG warning: iCCP: extra compressed data\n"
     ]
    },
    {
     "name": "stdout",
     "output_type": "stream",
     "text": [
      "230/230 [==============================] - 15s 63ms/step - loss: 1.0701 - accuracy: 0.6054 - val_loss: 1.9959 - val_accuracy: 0.4513\n",
      "Epoch 38/50\n",
      " 91/230 [==========>...................] - ETA: 9s - loss: 1.0488 - accuracy: 0.6257"
     ]
    },
    {
     "name": "stderr",
     "output_type": "stream",
     "text": [
      "2024-01-07 01:47:39.595992: W tensorflow/core/lib/png/png_io.cc:88] PNG warning: iCCP: extra compressed data\n"
     ]
    },
    {
     "name": "stdout",
     "output_type": "stream",
     "text": [
      "230/230 [==============================] - 19s 80ms/step - loss: 1.0463 - accuracy: 0.6269 - val_loss: 1.9384 - val_accuracy: 0.4675\n",
      "Epoch 39/50\n",
      " 92/230 [===========>..................] - ETA: 9s - loss: 1.0446 - accuracy: 0.6230"
     ]
    },
    {
     "name": "stderr",
     "output_type": "stream",
     "text": [
      "2024-01-07 01:47:58.512386: W tensorflow/core/lib/png/png_io.cc:88] PNG warning: iCCP: extra compressed data\n"
     ]
    },
    {
     "name": "stdout",
     "output_type": "stream",
     "text": [
      "230/230 [==============================] - 18s 78ms/step - loss: 1.0411 - accuracy: 0.6158 - val_loss: 1.7486 - val_accuracy: 0.4740\n",
      "Epoch 40/50\n",
      " 93/230 [===========>..................] - ETA: 9s - loss: 0.9968 - accuracy: 0.6129"
     ]
    },
    {
     "name": "stderr",
     "output_type": "stream",
     "text": [
      "2024-01-07 01:48:18.793373: W tensorflow/core/lib/png/png_io.cc:88] PNG warning: iCCP: extra compressed data\n"
     ]
    },
    {
     "name": "stdout",
     "output_type": "stream",
     "text": [
      "230/230 [==============================] - 18s 78ms/step - loss: 1.0206 - accuracy: 0.6231 - val_loss: 1.5997 - val_accuracy: 0.4643\n",
      "Epoch 41/50\n",
      " 91/230 [==========>...................] - ETA: 9s - loss: 1.0245 - accuracy: 0.6326"
     ]
    },
    {
     "name": "stderr",
     "output_type": "stream",
     "text": [
      "2024-01-07 01:48:37.246162: W tensorflow/core/lib/png/png_io.cc:88] PNG warning: iCCP: extra compressed data\n"
     ]
    },
    {
     "name": "stdout",
     "output_type": "stream",
     "text": [
      "230/230 [==============================] - 19s 79ms/step - loss: 1.0224 - accuracy: 0.6321 - val_loss: 1.8870 - val_accuracy: 0.4091\n",
      "Epoch 42/50\n",
      " 92/230 [===========>..................] - ETA: 8s - loss: 1.0104 - accuracy: 0.6311"
     ]
    },
    {
     "name": "stderr",
     "output_type": "stream",
     "text": [
      "2024-01-07 01:48:55.429319: W tensorflow/core/lib/png/png_io.cc:88] PNG warning: iCCP: extra compressed data\n"
     ]
    },
    {
     "name": "stdout",
     "output_type": "stream",
     "text": [
      "230/230 [==============================] - 16s 70ms/step - loss: 1.0263 - accuracy: 0.6264 - val_loss: 2.6272 - val_accuracy: 0.3896\n",
      "Epoch 43/50\n",
      " 94/230 [===========>..................] - ETA: 7s - loss: 1.0096 - accuracy: 0.6283"
     ]
    },
    {
     "name": "stderr",
     "output_type": "stream",
     "text": [
      "2024-01-07 01:49:10.764743: W tensorflow/core/lib/png/png_io.cc:88] PNG warning: iCCP: extra compressed data\n"
     ]
    },
    {
     "name": "stdout",
     "output_type": "stream",
     "text": [
      "230/230 [==============================] - 15s 62ms/step - loss: 1.0179 - accuracy: 0.6343 - val_loss: 1.8166 - val_accuracy: 0.4188\n",
      "Epoch 44/50\n",
      " 94/230 [===========>..................] - ETA: 7s - loss: 0.9950 - accuracy: 0.6396"
     ]
    },
    {
     "name": "stderr",
     "output_type": "stream",
     "text": [
      "2024-01-07 01:49:25.513177: W tensorflow/core/lib/png/png_io.cc:88] PNG warning: iCCP: extra compressed data\n"
     ]
    },
    {
     "name": "stdout",
     "output_type": "stream",
     "text": [
      "230/230 [==============================] - 16s 70ms/step - loss: 0.9946 - accuracy: 0.6387 - val_loss: 2.0050 - val_accuracy: 0.3669\n",
      "Epoch 45/50\n",
      " 93/230 [===========>..................] - ETA: 9s - loss: 1.0077 - accuracy: 0.6384"
     ]
    },
    {
     "name": "stderr",
     "output_type": "stream",
     "text": [
      "2024-01-07 01:49:43.125700: W tensorflow/core/lib/png/png_io.cc:88] PNG warning: iCCP: extra compressed data\n"
     ]
    },
    {
     "name": "stdout",
     "output_type": "stream",
     "text": [
      "230/230 [==============================] - 17s 71ms/step - loss: 0.9990 - accuracy: 0.6482 - val_loss: 1.8074 - val_accuracy: 0.4870\n",
      "Epoch 46/50\n",
      " 94/230 [===========>..................] - ETA: 7s - loss: 1.0133 - accuracy: 0.6343"
     ]
    },
    {
     "name": "stderr",
     "output_type": "stream",
     "text": [
      "2024-01-07 01:50:01.928546: W tensorflow/core/lib/png/png_io.cc:88] PNG warning: iCCP: extra compressed data\n"
     ]
    },
    {
     "name": "stdout",
     "output_type": "stream",
     "text": [
      "230/230 [==============================] - 14s 62ms/step - loss: 0.9788 - accuracy: 0.6458 - val_loss: 1.7987 - val_accuracy: 0.4578\n",
      "Epoch 47/50\n",
      " 94/230 [===========>..................] - ETA: 7s - loss: 1.0162 - accuracy: 0.6376"
     ]
    },
    {
     "name": "stderr",
     "output_type": "stream",
     "text": [
      "2024-01-07 01:50:16.421098: W tensorflow/core/lib/png/png_io.cc:88] PNG warning: iCCP: extra compressed data\n"
     ]
    },
    {
     "name": "stdout",
     "output_type": "stream",
     "text": [
      "230/230 [==============================] - 14s 62ms/step - loss: 1.0157 - accuracy: 0.6368 - val_loss: 2.2899 - val_accuracy: 0.4383\n",
      "Epoch 48/50\n",
      " 93/230 [===========>..................] - ETA: 7s - loss: 0.9927 - accuracy: 0.6492"
     ]
    },
    {
     "name": "stderr",
     "output_type": "stream",
     "text": [
      "2024-01-07 01:50:31.079583: W tensorflow/core/lib/png/png_io.cc:88] PNG warning: iCCP: extra compressed data\n"
     ]
    },
    {
     "name": "stdout",
     "output_type": "stream",
     "text": [
      "230/230 [==============================] - 14s 62ms/step - loss: 0.9957 - accuracy: 0.6523 - val_loss: 1.8893 - val_accuracy: 0.4578\n",
      "Epoch 49/50\n",
      " 93/230 [===========>..................] - ETA: 7s - loss: 0.9785 - accuracy: 0.6626"
     ]
    },
    {
     "name": "stderr",
     "output_type": "stream",
     "text": [
      "2024-01-07 01:50:45.583677: W tensorflow/core/lib/png/png_io.cc:88] PNG warning: iCCP: extra compressed data\n"
     ]
    },
    {
     "name": "stdout",
     "output_type": "stream",
     "text": [
      "230/230 [==============================] - 15s 64ms/step - loss: 0.9643 - accuracy: 0.6537 - val_loss: 2.1185 - val_accuracy: 0.4481\n",
      "Epoch 50/50\n",
      " 94/230 [===========>..................] - ETA: 7s - loss: 0.9614 - accuracy: 0.6456"
     ]
    },
    {
     "name": "stderr",
     "output_type": "stream",
     "text": [
      "2024-01-07 01:51:00.345609: W tensorflow/core/lib/png/png_io.cc:88] PNG warning: iCCP: extra compressed data\n"
     ]
    },
    {
     "name": "stdout",
     "output_type": "stream",
     "text": [
      "230/230 [==============================] - 15s 64ms/step - loss: 0.9728 - accuracy: 0.6504 - val_loss: 3.7440 - val_accuracy: 0.3896\n"
     ]
    },
    {
     "name": "stderr",
     "output_type": "stream",
     "text": [
      "2024-01-07 01:51:10.343433: I tensorflow/core/common_runtime/executor.cc:1197] [/device:CPU:0] (DEBUG INFO) Executor start aborting (this does not indicate an error and you can ignore this message): INVALID_ARGUMENT: You must feed a value for placeholder tensor 'Placeholder/_4' with dtype int32 and shape [916]\n",
      "\t [[{{node Placeholder/_4}}]]\n",
      "2024-01-07 01:51:10.345281: I tensorflow/core/common_runtime/executor.cc:1197] [/device:CPU:0] (DEBUG INFO) Executor start aborting (this does not indicate an error and you can ignore this message): INVALID_ARGUMENT: You must feed a value for placeholder tensor 'Placeholder/_4' with dtype int32 and shape [916]\n",
      "\t [[{{node Placeholder/_4}}]]\n"
     ]
    },
    {
     "name": "stdout",
     "output_type": "stream",
     "text": [
      "38/38 [==============================] - 2s 38ms/step - loss: 3.9493 - accuracy: 0.4079\n",
      "--- Starting trial: run-35\n",
      "{'batch_size': 16, 'img_dim_size': 256, 'optimizer': 'sgd'}\n",
      "Found 4583 files belonging to 7 classes.\n",
      "Using 3667 files for training.\n",
      "Found 4583 files belonging to 7 classes.\n",
      "Using 916 files for validation.\n",
      "Epoch 1/50\n"
     ]
    },
    {
     "name": "stderr",
     "output_type": "stream",
     "text": [
      "2024-01-07 01:51:13.969073: I tensorflow/core/common_runtime/executor.cc:1197] [/device:CPU:0] (DEBUG INFO) Executor start aborting (this does not indicate an error and you can ignore this message): INVALID_ARGUMENT: You must feed a value for placeholder tensor 'Placeholder/_4' with dtype int32 and shape [3667]\n",
      "\t [[{{node Placeholder/_4}}]]\n",
      "2024-01-07 01:51:13.969995: I tensorflow/core/common_runtime/executor.cc:1197] [/device:CPU:0] (DEBUG INFO) Executor start aborting (this does not indicate an error and you can ignore this message): INVALID_ARGUMENT: You must feed a value for placeholder tensor 'Placeholder/_4' with dtype int32 and shape [3667]\n",
      "\t [[{{node Placeholder/_4}}]]\n"
     ]
    },
    {
     "name": "stdout",
     "output_type": "stream",
     "text": [
      " 92/230 [===========>..................] - ETA: 7s - loss: 1.8022 - accuracy: 0.2772"
     ]
    },
    {
     "name": "stderr",
     "output_type": "stream",
     "text": [
      "2024-01-07 01:51:22.188897: W tensorflow/core/lib/png/png_io.cc:88] PNG warning: iCCP: extra compressed data\n"
     ]
    },
    {
     "name": "stdout",
     "output_type": "stream",
     "text": [
      "229/230 [============================>.] - ETA: 0s - loss: 1.7774 - accuracy: 0.2912"
     ]
    },
    {
     "name": "stderr",
     "output_type": "stream",
     "text": [
      "2024-01-07 01:51:30.445693: I tensorflow/core/common_runtime/executor.cc:1197] [/device:CPU:0] (DEBUG INFO) Executor start aborting (this does not indicate an error and you can ignore this message): INVALID_ARGUMENT: You must feed a value for placeholder tensor 'Placeholder/_4' with dtype int32 and shape [916]\n",
      "\t [[{{node Placeholder/_4}}]]\n",
      "2024-01-07 01:51:30.447843: I tensorflow/core/common_runtime/executor.cc:1197] [/device:CPU:0] (DEBUG INFO) Executor start aborting (this does not indicate an error and you can ignore this message): INVALID_ARGUMENT: You must feed a value for placeholder tensor 'Placeholder/_0' with dtype string and shape [916]\n",
      "\t [[{{node Placeholder/_0}}]]\n"
     ]
    },
    {
     "name": "stdout",
     "output_type": "stream",
     "text": [
      "230/230 [==============================] - 20s 72ms/step - loss: 1.7775 - accuracy: 0.2910 - val_loss: 1.8029 - val_accuracy: 0.2630\n",
      "Epoch 2/50\n",
      " 91/230 [==========>...................] - ETA: 8s - loss: 1.7202 - accuracy: 0.3214"
     ]
    },
    {
     "name": "stderr",
     "output_type": "stream",
     "text": [
      "2024-01-07 01:51:42.279162: W tensorflow/core/lib/png/png_io.cc:88] PNG warning: iCCP: extra compressed data\n"
     ]
    },
    {
     "name": "stdout",
     "output_type": "stream",
     "text": [
      "230/230 [==============================] - 17s 72ms/step - loss: 1.7250 - accuracy: 0.3120 - val_loss: 1.7450 - val_accuracy: 0.3474\n",
      "Epoch 3/50\n",
      " 93/230 [===========>..................] - ETA: 9s - loss: 1.6976 - accuracy: 0.3185"
     ]
    },
    {
     "name": "stderr",
     "output_type": "stream",
     "text": [
      "2024-01-07 01:52:00.318423: W tensorflow/core/lib/png/png_io.cc:88] PNG warning: iCCP: extra compressed data\n"
     ]
    },
    {
     "name": "stdout",
     "output_type": "stream",
     "text": [
      "230/230 [==============================] - 19s 81ms/step - loss: 1.6967 - accuracy: 0.3207 - val_loss: 1.7224 - val_accuracy: 0.3117\n",
      "Epoch 4/50\n",
      " 91/230 [==========>...................] - ETA: 9s - loss: 1.6666 - accuracy: 0.3413"
     ]
    },
    {
     "name": "stderr",
     "output_type": "stream",
     "text": [
      "2024-01-07 01:52:18.667673: W tensorflow/core/lib/png/png_io.cc:88] PNG warning: iCCP: extra compressed data\n"
     ]
    },
    {
     "name": "stdout",
     "output_type": "stream",
     "text": [
      "230/230 [==============================] - 19s 80ms/step - loss: 1.6740 - accuracy: 0.3349 - val_loss: 1.6935 - val_accuracy: 0.3182\n",
      "Epoch 5/50\n",
      " 93/230 [===========>..................] - ETA: 9s - loss: 1.6653 - accuracy: 0.3421"
     ]
    },
    {
     "name": "stderr",
     "output_type": "stream",
     "text": [
      "2024-01-07 01:52:37.847254: W tensorflow/core/lib/png/png_io.cc:88] PNG warning: iCCP: extra compressed data\n"
     ]
    },
    {
     "name": "stdout",
     "output_type": "stream",
     "text": [
      "230/230 [==============================] - 19s 82ms/step - loss: 1.6546 - accuracy: 0.3401 - val_loss: 1.7086 - val_accuracy: 0.3344\n",
      "Epoch 6/50\n",
      " 91/230 [==========>...................] - ETA: 9s - loss: 1.6532 - accuracy: 0.3393"
     ]
    },
    {
     "name": "stderr",
     "output_type": "stream",
     "text": [
      "2024-01-07 01:52:56.841704: W tensorflow/core/lib/png/png_io.cc:88] PNG warning: iCCP: extra compressed data\n"
     ]
    },
    {
     "name": "stdout",
     "output_type": "stream",
     "text": [
      "230/230 [==============================] - 19s 82ms/step - loss: 1.6463 - accuracy: 0.3447 - val_loss: 1.7127 - val_accuracy: 0.3117\n",
      "Epoch 7/50\n",
      " 92/230 [===========>..................] - ETA: 9s - loss: 1.6411 - accuracy: 0.3533"
     ]
    },
    {
     "name": "stderr",
     "output_type": "stream",
     "text": [
      "2024-01-07 01:53:15.994167: W tensorflow/core/lib/png/png_io.cc:88] PNG warning: iCCP: extra compressed data\n"
     ]
    },
    {
     "name": "stdout",
     "output_type": "stream",
     "text": [
      "230/230 [==============================] - 18s 78ms/step - loss: 1.6315 - accuracy: 0.3499 - val_loss: 1.6932 - val_accuracy: 0.3506\n",
      "Epoch 8/50\n",
      " 92/230 [===========>..................] - ETA: 8s - loss: 1.6263 - accuracy: 0.3499"
     ]
    },
    {
     "name": "stderr",
     "output_type": "stream",
     "text": [
      "2024-01-07 01:53:35.969434: W tensorflow/core/lib/png/png_io.cc:88] PNG warning: iCCP: extra compressed data\n"
     ]
    },
    {
     "name": "stdout",
     "output_type": "stream",
     "text": [
      "230/230 [==============================] - 17s 72ms/step - loss: 1.6152 - accuracy: 0.3553 - val_loss: 1.7146 - val_accuracy: 0.3117\n",
      "Epoch 9/50\n",
      " 94/230 [===========>..................] - ETA: 8s - loss: 1.6014 - accuracy: 0.3697"
     ]
    },
    {
     "name": "stderr",
     "output_type": "stream",
     "text": [
      "2024-01-07 01:53:53.098345: W tensorflow/core/lib/png/png_io.cc:88] PNG warning: iCCP: extra compressed data\n"
     ]
    },
    {
     "name": "stdout",
     "output_type": "stream",
     "text": [
      "230/230 [==============================] - 18s 75ms/step - loss: 1.6055 - accuracy: 0.3578 - val_loss: 1.6184 - val_accuracy: 0.3864\n",
      "Epoch 10/50\n",
      " 93/230 [===========>..................] - ETA: 8s - loss: 1.5934 - accuracy: 0.3663"
     ]
    },
    {
     "name": "stderr",
     "output_type": "stream",
     "text": [
      "2024-01-07 01:54:10.618772: W tensorflow/core/lib/png/png_io.cc:88] PNG warning: iCCP: extra compressed data\n"
     ]
    },
    {
     "name": "stdout",
     "output_type": "stream",
     "text": [
      "230/230 [==============================] - 16s 68ms/step - loss: 1.5831 - accuracy: 0.3643 - val_loss: 1.6501 - val_accuracy: 0.3636\n",
      "Epoch 11/50\n",
      " 94/230 [===========>..................] - ETA: 7s - loss: 1.5821 - accuracy: 0.3657"
     ]
    },
    {
     "name": "stderr",
     "output_type": "stream",
     "text": [
      "2024-01-07 01:54:30.759747: W tensorflow/core/lib/png/png_io.cc:88] PNG warning: iCCP: extra compressed data\n"
     ]
    },
    {
     "name": "stdout",
     "output_type": "stream",
     "text": [
      "230/230 [==============================] - 16s 68ms/step - loss: 1.5810 - accuracy: 0.3673 - val_loss: 1.6862 - val_accuracy: 0.3214\n",
      "Epoch 12/50\n",
      " 93/230 [===========>..................] - ETA: 8s - loss: 1.5732 - accuracy: 0.3616"
     ]
    },
    {
     "name": "stderr",
     "output_type": "stream",
     "text": [
      "2024-01-07 01:54:46.907848: W tensorflow/core/lib/png/png_io.cc:88] PNG warning: iCCP: extra compressed data\n"
     ]
    },
    {
     "name": "stdout",
     "output_type": "stream",
     "text": [
      "230/230 [==============================] - 16s 69ms/step - loss: 1.5689 - accuracy: 0.3714 - val_loss: 1.6585 - val_accuracy: 0.3377\n",
      "Epoch 13/50\n",
      " 94/230 [===========>..................] - ETA: 8s - loss: 1.5517 - accuracy: 0.3883"
     ]
    },
    {
     "name": "stderr",
     "output_type": "stream",
     "text": [
      "2024-01-07 01:55:03.088717: W tensorflow/core/lib/png/png_io.cc:88] PNG warning: iCCP: extra compressed data\n"
     ]
    },
    {
     "name": "stdout",
     "output_type": "stream",
     "text": [
      "230/230 [==============================] - 17s 71ms/step - loss: 1.5510 - accuracy: 0.3916 - val_loss: 1.7133 - val_accuracy: 0.3474\n",
      "Epoch 14/50\n",
      " 91/230 [==========>...................] - ETA: 9s - loss: 1.5514 - accuracy: 0.3997"
     ]
    },
    {
     "name": "stderr",
     "output_type": "stream",
     "text": [
      "2024-01-07 01:55:24.369256: W tensorflow/core/lib/png/png_io.cc:88] PNG warning: iCCP: extra compressed data\n"
     ]
    },
    {
     "name": "stdout",
     "output_type": "stream",
     "text": [
      "230/230 [==============================] - 19s 82ms/step - loss: 1.5465 - accuracy: 0.3949 - val_loss: 1.6351 - val_accuracy: 0.3896\n",
      "Epoch 15/50\n",
      " 94/230 [===========>..................] - ETA: 8s - loss: 1.5280 - accuracy: 0.4096"
     ]
    },
    {
     "name": "stderr",
     "output_type": "stream",
     "text": [
      "2024-01-07 01:55:43.266880: W tensorflow/core/lib/png/png_io.cc:88] PNG warning: iCCP: extra compressed data\n"
     ]
    },
    {
     "name": "stdout",
     "output_type": "stream",
     "text": [
      "230/230 [==============================] - 18s 79ms/step - loss: 1.5232 - accuracy: 0.4028 - val_loss: 1.6379 - val_accuracy: 0.3539\n",
      "Epoch 16/50\n",
      " 91/230 [==========>...................] - ETA: 9s - loss: 1.5167 - accuracy: 0.4128"
     ]
    },
    {
     "name": "stderr",
     "output_type": "stream",
     "text": [
      "2024-01-07 01:56:02.116391: W tensorflow/core/lib/png/png_io.cc:88] PNG warning: iCCP: extra compressed data\n"
     ]
    },
    {
     "name": "stdout",
     "output_type": "stream",
     "text": [
      "230/230 [==============================] - 19s 79ms/step - loss: 1.5159 - accuracy: 0.4082 - val_loss: 1.5960 - val_accuracy: 0.3799\n",
      "Epoch 17/50\n",
      " 93/230 [===========>..................] - ETA: 8s - loss: 1.4944 - accuracy: 0.4153"
     ]
    },
    {
     "name": "stderr",
     "output_type": "stream",
     "text": [
      "2024-01-07 01:56:19.971458: W tensorflow/core/lib/png/png_io.cc:88] PNG warning: iCCP: extra compressed data\n"
     ]
    },
    {
     "name": "stdout",
     "output_type": "stream",
     "text": [
      "230/230 [==============================] - 18s 75ms/step - loss: 1.4973 - accuracy: 0.4216 - val_loss: 1.5356 - val_accuracy: 0.4091\n",
      "Epoch 18/50\n",
      " 93/230 [===========>..................] - ETA: 8s - loss: 1.4739 - accuracy: 0.4086"
     ]
    },
    {
     "name": "stderr",
     "output_type": "stream",
     "text": [
      "2024-01-07 01:56:40.856669: W tensorflow/core/lib/png/png_io.cc:88] PNG warning: iCCP: extra compressed data\n"
     ]
    },
    {
     "name": "stdout",
     "output_type": "stream",
     "text": [
      "230/230 [==============================] - 19s 80ms/step - loss: 1.4869 - accuracy: 0.4159 - val_loss: 1.6506 - val_accuracy: 0.3669\n",
      "Epoch 19/50\n",
      " 91/230 [==========>...................] - ETA: 10s - loss: 1.4765 - accuracy: 0.4155"
     ]
    },
    {
     "name": "stderr",
     "output_type": "stream",
     "text": [
      "2024-01-07 01:57:00.381358: W tensorflow/core/lib/png/png_io.cc:88] PNG warning: iCCP: extra compressed data\n"
     ]
    },
    {
     "name": "stdout",
     "output_type": "stream",
     "text": [
      "230/230 [==============================] - 19s 82ms/step - loss: 1.4721 - accuracy: 0.4246 - val_loss: 1.9859 - val_accuracy: 0.3312\n",
      "Epoch 20/50\n",
      " 93/230 [===========>..................] - ETA: 9s - loss: 1.4498 - accuracy: 0.4362"
     ]
    },
    {
     "name": "stderr",
     "output_type": "stream",
     "text": [
      "2024-01-07 01:57:19.446375: W tensorflow/core/lib/png/png_io.cc:88] PNG warning: iCCP: extra compressed data\n"
     ]
    },
    {
     "name": "stdout",
     "output_type": "stream",
     "text": [
      "230/230 [==============================] - 19s 83ms/step - loss: 1.4561 - accuracy: 0.4358 - val_loss: 1.7287 - val_accuracy: 0.2987\n",
      "Epoch 21/50\n",
      " 93/230 [===========>..................] - ETA: 9s - loss: 1.4413 - accuracy: 0.4301"
     ]
    },
    {
     "name": "stderr",
     "output_type": "stream",
     "text": [
      "2024-01-07 01:57:38.864243: W tensorflow/core/lib/png/png_io.cc:88] PNG warning: iCCP: extra compressed data\n"
     ]
    },
    {
     "name": "stdout",
     "output_type": "stream",
     "text": [
      "230/230 [==============================] - 20s 83ms/step - loss: 1.4490 - accuracy: 0.4382 - val_loss: 1.5871 - val_accuracy: 0.3864\n",
      "Epoch 22/50\n",
      " 94/230 [===========>..................] - ETA: 9s - loss: 1.4319 - accuracy: 0.4382"
     ]
    },
    {
     "name": "stderr",
     "output_type": "stream",
     "text": [
      "2024-01-07 01:57:58.665965: W tensorflow/core/lib/png/png_io.cc:88] PNG warning: iCCP: extra compressed data\n"
     ]
    },
    {
     "name": "stdout",
     "output_type": "stream",
     "text": [
      "230/230 [==============================] - 19s 82ms/step - loss: 1.4341 - accuracy: 0.4437 - val_loss: 1.7075 - val_accuracy: 0.3117\n",
      "Epoch 23/50\n",
      " 94/230 [===========>..................] - ETA: 9s - loss: 1.4288 - accuracy: 0.4355"
     ]
    },
    {
     "name": "stderr",
     "output_type": "stream",
     "text": [
      "2024-01-07 01:58:17.669332: W tensorflow/core/lib/png/png_io.cc:88] PNG warning: iCCP: extra compressed data\n"
     ]
    },
    {
     "name": "stdout",
     "output_type": "stream",
     "text": [
      "230/230 [==============================] - 19s 81ms/step - loss: 1.4225 - accuracy: 0.4461 - val_loss: 1.5115 - val_accuracy: 0.4091\n",
      "Epoch 24/50\n",
      " 93/230 [===========>..................] - ETA: 9s - loss: 1.4152 - accuracy: 0.4355 "
     ]
    },
    {
     "name": "stderr",
     "output_type": "stream",
     "text": [
      "2024-01-07 01:58:37.429875: W tensorflow/core/lib/png/png_io.cc:88] PNG warning: iCCP: extra compressed data\n"
     ]
    },
    {
     "name": "stdout",
     "output_type": "stream",
     "text": [
      "230/230 [==============================] - 19s 82ms/step - loss: 1.4142 - accuracy: 0.4543 - val_loss: 1.5943 - val_accuracy: 0.3831\n",
      "Epoch 25/50\n",
      " 94/230 [===========>..................] - ETA: 8s - loss: 1.3866 - accuracy: 0.4468"
     ]
    },
    {
     "name": "stderr",
     "output_type": "stream",
     "text": [
      "2024-01-07 01:58:55.731553: W tensorflow/core/lib/png/png_io.cc:88] PNG warning: iCCP: extra compressed data\n"
     ]
    },
    {
     "name": "stdout",
     "output_type": "stream",
     "text": [
      "230/230 [==============================] - 17s 70ms/step - loss: 1.3973 - accuracy: 0.4584 - val_loss: 1.9415 - val_accuracy: 0.3604\n",
      "Epoch 26/50\n",
      " 94/230 [===========>..................] - ETA: 7s - loss: 1.3946 - accuracy: 0.4561"
     ]
    },
    {
     "name": "stderr",
     "output_type": "stream",
     "text": [
      "2024-01-07 01:59:11.763903: W tensorflow/core/lib/png/png_io.cc:88] PNG warning: iCCP: extra compressed data\n"
     ]
    },
    {
     "name": "stdout",
     "output_type": "stream",
     "text": [
      "230/230 [==============================] - 15s 66ms/step - loss: 1.3911 - accuracy: 0.4617 - val_loss: 1.5455 - val_accuracy: 0.3766\n",
      "Epoch 27/50\n",
      " 93/230 [===========>..................] - ETA: 7s - loss: 1.3764 - accuracy: 0.4583"
     ]
    },
    {
     "name": "stderr",
     "output_type": "stream",
     "text": [
      "2024-01-07 01:59:27.202336: W tensorflow/core/lib/png/png_io.cc:88] PNG warning: iCCP: extra compressed data\n"
     ]
    },
    {
     "name": "stdout",
     "output_type": "stream",
     "text": [
      "230/230 [==============================] - 16s 69ms/step - loss: 1.3792 - accuracy: 0.4688 - val_loss: 1.5423 - val_accuracy: 0.3896\n",
      "Epoch 28/50\n",
      " 92/230 [===========>..................] - ETA: 8s - loss: 1.3695 - accuracy: 0.4674"
     ]
    },
    {
     "name": "stderr",
     "output_type": "stream",
     "text": [
      "2024-01-07 01:59:43.769685: W tensorflow/core/lib/png/png_io.cc:88] PNG warning: iCCP: extra compressed data\n"
     ]
    },
    {
     "name": "stdout",
     "output_type": "stream",
     "text": [
      "230/230 [==============================] - 16s 66ms/step - loss: 1.3677 - accuracy: 0.4734 - val_loss: 2.0965 - val_accuracy: 0.3084\n",
      "Epoch 29/50\n",
      " 94/230 [===========>..................] - ETA: 7s - loss: 1.3567 - accuracy: 0.4714"
     ]
    },
    {
     "name": "stderr",
     "output_type": "stream",
     "text": [
      "2024-01-07 01:59:58.678552: W tensorflow/core/lib/png/png_io.cc:88] PNG warning: iCCP: extra compressed data\n"
     ]
    },
    {
     "name": "stdout",
     "output_type": "stream",
     "text": [
      "230/230 [==============================] - 15s 64ms/step - loss: 1.3554 - accuracy: 0.4764 - val_loss: 1.5122 - val_accuracy: 0.4123\n",
      "Epoch 30/50\n",
      " 94/230 [===========>..................] - ETA: 8s - loss: 1.3403 - accuracy: 0.4814"
     ]
    },
    {
     "name": "stderr",
     "output_type": "stream",
     "text": [
      "2024-01-07 02:00:14.343204: W tensorflow/core/lib/png/png_io.cc:88] PNG warning: iCCP: extra compressed data\n"
     ]
    },
    {
     "name": "stdout",
     "output_type": "stream",
     "text": [
      "230/230 [==============================] - 17s 74ms/step - loss: 1.3332 - accuracy: 0.4920 - val_loss: 1.4692 - val_accuracy: 0.4416\n",
      "Epoch 31/50\n",
      " 94/230 [===========>..................] - ETA: 7s - loss: 1.3349 - accuracy: 0.4694"
     ]
    },
    {
     "name": "stderr",
     "output_type": "stream",
     "text": [
      "2024-01-07 02:00:31.436288: W tensorflow/core/lib/png/png_io.cc:88] PNG warning: iCCP: extra compressed data\n"
     ]
    },
    {
     "name": "stdout",
     "output_type": "stream",
     "text": [
      "230/230 [==============================] - 17s 71ms/step - loss: 1.3289 - accuracy: 0.4868 - val_loss: 1.4587 - val_accuracy: 0.4643\n",
      "Epoch 32/50\n",
      " 91/230 [==========>...................] - ETA: 7s - loss: 1.3161 - accuracy: 0.4856"
     ]
    },
    {
     "name": "stderr",
     "output_type": "stream",
     "text": [
      "2024-01-07 02:00:48.224000: W tensorflow/core/lib/png/png_io.cc:88] PNG warning: iCCP: extra compressed data\n"
     ]
    },
    {
     "name": "stdout",
     "output_type": "stream",
     "text": [
      "230/230 [==============================] - 17s 70ms/step - loss: 1.3092 - accuracy: 0.4936 - val_loss: 1.5404 - val_accuracy: 0.4123\n",
      "Epoch 33/50\n",
      " 94/230 [===========>..................] - ETA: 7s - loss: 1.3049 - accuracy: 0.5060"
     ]
    },
    {
     "name": "stderr",
     "output_type": "stream",
     "text": [
      "2024-01-07 02:01:04.887810: W tensorflow/core/lib/png/png_io.cc:88] PNG warning: iCCP: extra compressed data\n"
     ]
    },
    {
     "name": "stdout",
     "output_type": "stream",
     "text": [
      "230/230 [==============================] - 16s 70ms/step - loss: 1.3048 - accuracy: 0.5050 - val_loss: 1.5897 - val_accuracy: 0.3734\n",
      "Epoch 34/50\n",
      " 94/230 [===========>..................] - ETA: 7s - loss: 1.2977 - accuracy: 0.4940"
     ]
    },
    {
     "name": "stderr",
     "output_type": "stream",
     "text": [
      "2024-01-07 02:01:25.416683: W tensorflow/core/lib/png/png_io.cc:88] PNG warning: iCCP: extra compressed data\n"
     ]
    },
    {
     "name": "stdout",
     "output_type": "stream",
     "text": [
      "230/230 [==============================] - 16s 69ms/step - loss: 1.2995 - accuracy: 0.5040 - val_loss: 1.4480 - val_accuracy: 0.4383\n",
      "Epoch 35/50\n",
      " 94/230 [===========>..................] - ETA: 8s - loss: 1.2930 - accuracy: 0.5013"
     ]
    },
    {
     "name": "stderr",
     "output_type": "stream",
     "text": [
      "2024-01-07 02:01:42.412667: W tensorflow/core/lib/png/png_io.cc:88] PNG warning: iCCP: extra compressed data\n"
     ]
    },
    {
     "name": "stdout",
     "output_type": "stream",
     "text": [
      "230/230 [==============================] - 17s 73ms/step - loss: 1.2859 - accuracy: 0.5135 - val_loss: 1.7848 - val_accuracy: 0.4221\n",
      "Epoch 36/50\n",
      " 91/230 [==========>...................] - ETA: 8s - loss: 1.2678 - accuracy: 0.5082"
     ]
    },
    {
     "name": "stderr",
     "output_type": "stream",
     "text": [
      "2024-01-07 02:01:58.900286: W tensorflow/core/lib/png/png_io.cc:88] PNG warning: iCCP: extra compressed data\n"
     ]
    },
    {
     "name": "stdout",
     "output_type": "stream",
     "text": [
      "230/230 [==============================] - 17s 71ms/step - loss: 1.2628 - accuracy: 0.5140 - val_loss: 1.5055 - val_accuracy: 0.4610\n",
      "Epoch 37/50\n",
      " 92/230 [===========>..................] - ETA: 8s - loss: 1.2584 - accuracy: 0.5082"
     ]
    },
    {
     "name": "stderr",
     "output_type": "stream",
     "text": [
      "2024-01-07 02:02:16.120547: W tensorflow/core/lib/png/png_io.cc:88] PNG warning: iCCP: extra compressed data\n"
     ]
    },
    {
     "name": "stdout",
     "output_type": "stream",
     "text": [
      "230/230 [==============================] - 18s 77ms/step - loss: 1.2597 - accuracy: 0.5113 - val_loss: 1.6869 - val_accuracy: 0.3344\n",
      "Epoch 38/50\n",
      " 94/230 [===========>..................] - ETA: 7s - loss: 1.2466 - accuracy: 0.5213"
     ]
    },
    {
     "name": "stderr",
     "output_type": "stream",
     "text": [
      "2024-01-07 02:02:33.657680: W tensorflow/core/lib/png/png_io.cc:88] PNG warning: iCCP: extra compressed data\n"
     ]
    },
    {
     "name": "stdout",
     "output_type": "stream",
     "text": [
      "230/230 [==============================] - 16s 70ms/step - loss: 1.2441 - accuracy: 0.5318 - val_loss: 1.4506 - val_accuracy: 0.4675\n",
      "Epoch 39/50\n",
      " 92/230 [===========>..................] - ETA: 7s - loss: 1.2321 - accuracy: 0.5197"
     ]
    },
    {
     "name": "stderr",
     "output_type": "stream",
     "text": [
      "2024-01-07 02:02:49.798247: W tensorflow/core/lib/png/png_io.cc:88] PNG warning: iCCP: extra compressed data\n"
     ]
    },
    {
     "name": "stdout",
     "output_type": "stream",
     "text": [
      "230/230 [==============================] - 17s 71ms/step - loss: 1.2299 - accuracy: 0.5244 - val_loss: 1.4259 - val_accuracy: 0.4708\n",
      "Epoch 40/50\n",
      " 93/230 [===========>..................] - ETA: 9s - loss: 1.2093 - accuracy: 0.5376"
     ]
    },
    {
     "name": "stderr",
     "output_type": "stream",
     "text": [
      "2024-01-07 02:03:07.714041: W tensorflow/core/lib/png/png_io.cc:88] PNG warning: iCCP: extra compressed data\n"
     ]
    },
    {
     "name": "stdout",
     "output_type": "stream",
     "text": [
      "230/230 [==============================] - 18s 76ms/step - loss: 1.2081 - accuracy: 0.5367 - val_loss: 1.4768 - val_accuracy: 0.4351\n",
      "Epoch 41/50\n",
      " 93/230 [===========>..................] - ETA: 8s - loss: 1.2031 - accuracy: 0.5336"
     ]
    },
    {
     "name": "stderr",
     "output_type": "stream",
     "text": [
      "2024-01-07 02:03:24.873302: W tensorflow/core/lib/png/png_io.cc:88] PNG warning: iCCP: extra compressed data\n"
     ]
    },
    {
     "name": "stdout",
     "output_type": "stream",
     "text": [
      "230/230 [==============================] - 18s 75ms/step - loss: 1.1998 - accuracy: 0.5465 - val_loss: 1.7009 - val_accuracy: 0.3539\n",
      "Epoch 42/50\n",
      " 94/230 [===========>..................] - ETA: 8s - loss: 1.1903 - accuracy: 0.5406"
     ]
    },
    {
     "name": "stderr",
     "output_type": "stream",
     "text": [
      "2024-01-07 02:03:43.068937: W tensorflow/core/lib/png/png_io.cc:88] PNG warning: iCCP: extra compressed data\n"
     ]
    },
    {
     "name": "stdout",
     "output_type": "stream",
     "text": [
      "230/230 [==============================] - 17s 72ms/step - loss: 1.1883 - accuracy: 0.5367 - val_loss: 1.8010 - val_accuracy: 0.3799\n",
      "Epoch 43/50\n",
      " 93/230 [===========>..................] - ETA: 8s - loss: 1.1813 - accuracy: 0.5329"
     ]
    },
    {
     "name": "stderr",
     "output_type": "stream",
     "text": [
      "2024-01-07 02:03:59.807395: W tensorflow/core/lib/png/png_io.cc:88] PNG warning: iCCP: extra compressed data\n"
     ]
    },
    {
     "name": "stdout",
     "output_type": "stream",
     "text": [
      "230/230 [==============================] - 17s 71ms/step - loss: 1.1730 - accuracy: 0.5490 - val_loss: 1.5960 - val_accuracy: 0.4058\n",
      "Epoch 44/50\n",
      " 91/230 [==========>...................] - ETA: 8s - loss: 1.1794 - accuracy: 0.5391"
     ]
    },
    {
     "name": "stderr",
     "output_type": "stream",
     "text": [
      "2024-01-07 02:04:16.384237: W tensorflow/core/lib/png/png_io.cc:88] PNG warning: iCCP: extra compressed data\n"
     ]
    },
    {
     "name": "stdout",
     "output_type": "stream",
     "text": [
      "230/230 [==============================] - 17s 73ms/step - loss: 1.1618 - accuracy: 0.5558 - val_loss: 1.5825 - val_accuracy: 0.3734\n",
      "Epoch 45/50\n",
      " 91/230 [==========>...................] - ETA: 8s - loss: 1.1743 - accuracy: 0.5515"
     ]
    },
    {
     "name": "stderr",
     "output_type": "stream",
     "text": [
      "2024-01-07 02:04:33.713473: W tensorflow/core/lib/png/png_io.cc:88] PNG warning: iCCP: extra compressed data\n"
     ]
    },
    {
     "name": "stdout",
     "output_type": "stream",
     "text": [
      "230/230 [==============================] - 17s 74ms/step - loss: 1.1595 - accuracy: 0.5675 - val_loss: 1.3931 - val_accuracy: 0.4805\n",
      "Epoch 46/50\n",
      " 91/230 [==========>...................] - ETA: 9s - loss: 1.1528 - accuracy: 0.5481"
     ]
    },
    {
     "name": "stderr",
     "output_type": "stream",
     "text": [
      "2024-01-07 02:04:51.737080: W tensorflow/core/lib/png/png_io.cc:88] PNG warning: iCCP: extra compressed data\n"
     ]
    },
    {
     "name": "stdout",
     "output_type": "stream",
     "text": [
      "230/230 [==============================] - 19s 82ms/step - loss: 1.1298 - accuracy: 0.5729 - val_loss: 1.4867 - val_accuracy: 0.4383\n",
      "Epoch 47/50\n",
      " 93/230 [===========>..................] - ETA: 8s - loss: 1.1339 - accuracy: 0.5598"
     ]
    },
    {
     "name": "stderr",
     "output_type": "stream",
     "text": [
      "2024-01-07 02:05:10.191684: W tensorflow/core/lib/png/png_io.cc:88] PNG warning: iCCP: extra compressed data\n"
     ]
    },
    {
     "name": "stdout",
     "output_type": "stream",
     "text": [
      "230/230 [==============================] - 18s 79ms/step - loss: 1.1204 - accuracy: 0.5817 - val_loss: 1.5643 - val_accuracy: 0.4253\n",
      "Epoch 48/50\n",
      " 94/230 [===========>..................] - ETA: 7s - loss: 1.1171 - accuracy: 0.5685"
     ]
    },
    {
     "name": "stderr",
     "output_type": "stream",
     "text": [
      "2024-01-07 02:05:30.373111: W tensorflow/core/lib/png/png_io.cc:88] PNG warning: iCCP: extra compressed data\n"
     ]
    },
    {
     "name": "stdout",
     "output_type": "stream",
     "text": [
      "230/230 [==============================] - 18s 76ms/step - loss: 1.0958 - accuracy: 0.5836 - val_loss: 1.6102 - val_accuracy: 0.4221\n",
      "Epoch 49/50\n",
      " 92/230 [===========>..................] - ETA: 8s - loss: 1.1147 - accuracy: 0.5584"
     ]
    },
    {
     "name": "stderr",
     "output_type": "stream",
     "text": [
      "2024-01-07 02:05:50.881038: W tensorflow/core/lib/png/png_io.cc:88] PNG warning: iCCP: extra compressed data\n"
     ]
    },
    {
     "name": "stdout",
     "output_type": "stream",
     "text": [
      "230/230 [==============================] - 17s 72ms/step - loss: 1.0943 - accuracy: 0.5803 - val_loss: 1.7056 - val_accuracy: 0.4221\n",
      "Epoch 50/50\n",
      " 91/230 [==========>...................] - ETA: 9s - loss: 1.0810 - accuracy: 0.5838"
     ]
    },
    {
     "name": "stderr",
     "output_type": "stream",
     "text": [
      "2024-01-07 02:06:08.291522: W tensorflow/core/lib/png/png_io.cc:88] PNG warning: iCCP: extra compressed data\n"
     ]
    },
    {
     "name": "stdout",
     "output_type": "stream",
     "text": [
      "230/230 [==============================] - 17s 73ms/step - loss: 1.0725 - accuracy: 0.5918 - val_loss: 1.8007 - val_accuracy: 0.3864\n"
     ]
    },
    {
     "name": "stderr",
     "output_type": "stream",
     "text": [
      "2024-01-07 02:06:19.065777: I tensorflow/core/common_runtime/executor.cc:1197] [/device:CPU:0] (DEBUG INFO) Executor start aborting (this does not indicate an error and you can ignore this message): INVALID_ARGUMENT: You must feed a value for placeholder tensor 'Placeholder/_4' with dtype int32 and shape [916]\n",
      "\t [[{{node Placeholder/_4}}]]\n",
      "2024-01-07 02:06:19.067679: I tensorflow/core/common_runtime/executor.cc:1197] [/device:CPU:0] (DEBUG INFO) Executor start aborting (this does not indicate an error and you can ignore this message): INVALID_ARGUMENT: You must feed a value for placeholder tensor 'Placeholder/_0' with dtype string and shape [916]\n",
      "\t [[{{node Placeholder/_0}}]]\n"
     ]
    },
    {
     "name": "stdout",
     "output_type": "stream",
     "text": [
      "38/38 [==============================] - 2s 45ms/step - loss: 1.7183 - accuracy: 0.3997\n"
     ]
    }
   ],
   "source": [
    "session_num = 0\n",
    "\n",
    "for batch_size in HP_BATCH_SIZE.domain.values:\n",
    "  for img_dim_size in HP_IMG_DIM_SIZE.domain.values:\n",
    "    for optimizer in HP_OPTIMIZER.domain.values:\n",
    "      hparams = {\n",
    "          HP_BATCH_SIZE: batch_size,\n",
    "          HP_IMG_DIM_SIZE: img_dim_size,\n",
    "          HP_OPTIMIZER: optimizer,\n",
    "      }\n",
    "      run_name = \"run-%d\" % session_num\n",
    "      print('--- Starting trial: %s' % run_name)\n",
    "      print({h.name: hparams[h] for h in hparams})\n",
    "      run('logs/hparam_tuning/' + run_name, hparams)\n",
    "      session_num += 1\n"
   ]
  },
  {
   "cell_type": "code",
   "execution_count": 11,
   "metadata": {},
   "outputs": [
    {
     "data": {
      "text/plain": [
       "Reusing TensorBoard on port 6006 (pid 99189), started 0:00:06 ago. (Use '!kill 99189' to kill it.)"
      ]
     },
     "metadata": {},
     "output_type": "display_data"
    },
    {
     "data": {
      "text/html": [
       "\n",
       "      <iframe id=\"tensorboard-frame-205033819ab2de5c\" width=\"100%\" height=\"800\" frameborder=\"0\">\n",
       "      </iframe>\n",
       "      <script>\n",
       "        (function() {\n",
       "          const frame = document.getElementById(\"tensorboard-frame-205033819ab2de5c\");\n",
       "          const url = new URL(\"http://localhost\");\n",
       "          const port = 6006;\n",
       "          if (port) {\n",
       "            url.port = port;\n",
       "          }\n",
       "          frame.src = url;\n",
       "        })();\n",
       "      </script>\n",
       "    "
      ],
      "text/plain": [
       "<IPython.core.display.HTML object>"
      ]
     },
     "metadata": {},
     "output_type": "display_data"
    }
   ],
   "source": [
    "%tensorboard --logdir logs/hparam_tuning"
   ]
  }
 ],
 "metadata": {
  "kernelspec": {
   "display_name": "main",
   "language": "python",
   "name": "python3"
  },
  "language_info": {
   "codemirror_mode": {
    "name": "ipython",
    "version": 3
   },
   "file_extension": ".py",
   "mimetype": "text/x-python",
   "name": "python",
   "nbconvert_exporter": "python",
   "pygments_lexer": "ipython3",
   "version": "3.9.17"
  }
 },
 "nbformat": 4,
 "nbformat_minor": 2
}
